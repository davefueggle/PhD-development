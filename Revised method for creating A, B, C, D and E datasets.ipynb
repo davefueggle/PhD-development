{
 "cells": [
  {
   "cell_type": "markdown",
   "id": "4e8f20cf",
   "metadata": {},
   "source": [
    "# Revised method for creating A, B, C, D and E datasets\n",
    "\n",
    "This prgram imports the clean, non-imputer sepsis and non sepsis windows which are length 16 and 7 features. Where these windows are part of a time series of abbuting windows, there relationship is maintained. 5 datasets are created for 10% sepsis and 5for 505 sepsis. Data is checked to ensure no data leakage.\n",
    "Sets of K validation data (leave one behind) are created for 10% and 50%. "
   ]
  },
  {
   "cell_type": "code",
   "execution_count": 5,
   "id": "004ae4db",
   "metadata": {},
   "outputs": [],
   "source": [
    "#import libraries\n",
    "import numpy as np\n",
    "import pandas as pd\n",
    "import random"
   ]
  },
  {
   "cell_type": "code",
   "execution_count": 6,
   "id": "660e6a6d",
   "metadata": {},
   "outputs": [
    {
     "data": {
      "text/html": [
       "<div>\n",
       "<style scoped>\n",
       "    .dataframe tbody tr th:only-of-type {\n",
       "        vertical-align: middle;\n",
       "    }\n",
       "\n",
       "    .dataframe tbody tr th {\n",
       "        vertical-align: top;\n",
       "    }\n",
       "\n",
       "    .dataframe thead th {\n",
       "        text-align: right;\n",
       "    }\n",
       "</style>\n",
       "<table border=\"1\" class=\"dataframe\">\n",
       "  <thead>\n",
       "    <tr style=\"text-align: right;\">\n",
       "      <th></th>\n",
       "      <th>Original file name</th>\n",
       "      <th>X file name</th>\n",
       "      <th>y file name</th>\n",
       "      <th>Num Windows</th>\n",
       "    </tr>\n",
       "  </thead>\n",
       "  <tbody>\n",
       "  </tbody>\n",
       "</table>\n",
       "</div>"
      ],
      "text/plain": [
       "Empty DataFrame\n",
       "Columns: [Original file name, X file name, y file name, Num Windows]\n",
       "Index: []"
      ]
     },
     "execution_count": 6,
     "metadata": {},
     "output_type": "execute_result"
    }
   ],
   "source": [
    "#create dataframes to hold the list offilensmes\n",
    "file_list_windows=pd.DataFrame(columns=['Original file name','X file name','y file name','Num Windows'])\n",
    "file_list_windows_temp=pd.DataFrame(columns=['Original file name','X file name','y file name','Num Windows'])\n",
    "file_list_windows"
   ]
  },
  {
   "cell_type": "code",
   "execution_count": 4,
   "id": "943609d9",
   "metadata": {},
   "outputs": [],
   "source": [
    "#set variablems\n",
    "size_of_window=16\n",
    "number_of_features=7\n",
    "#create 3D arrays to allow the process to build  a set of records\n",
    "data_sepsis=np.zeros((1, size_of_window, number_of_features))\n",
    "data_non_sepsis=np.zeros((1, size_of_window, number_of_features))"
   ]
  },
  {
   "cell_type": "code",
   "execution_count": 7,
   "id": "c9ed2c1e",
   "metadata": {},
   "outputs": [],
   "source": [
    "#create paths to datasets\n",
    "path_non_sepsis='/Users/davidfueggled/Documents/results year three/list of non sepsis 16 windows.csv'\n",
    "path_sepsis='/Users/davidfueggled/Documents/results year three/list of sepsis 16 windows.csv'"
   ]
  },
  {
   "cell_type": "code",
   "execution_count": 75,
   "id": "6e7194b9",
   "metadata": {},
   "outputs": [
    {
     "name": "stdout",
     "output_type": "stream",
     "text": [
      "[19, 20, 21, 22, 23, 24, 25, 26, 27, 28, 29, 30, 31]\n"
     ]
    }
   ],
   "source": [
    "Divide sepsis data into 5 equal parts. Starts at 19 to eliminate duplicate records\n",
    "Data_list_A = list(range(19, 32))\n",
    "Data_list_B = list(range(32, 47))\n",
    "Data_list_C = list(range(47, 60))\n",
    "Data_list_D = list(range(60, 70))\n",
    "Data_list_E = list(range(70, 84))\n",
    "len(Data_list_A)\n",
    "len_total=len(Data_list_A)+len(Data_list_B)+len(Data_list_C)+len(Data_list_D)+len(Data_list_E)\n",
    "\n",
    "int(880/len_total)\n",
    "print(Data_list_A)"
   ]
  },
  {
   "cell_type": "code",
   "execution_count": 59,
   "id": "46957d0e",
   "metadata": {},
   "outputs": [],
   "source": [
    "#seed the random generator\n",
    "def get_random_numbers_non_sepsis(Number_of_non_sepsis_records): \n",
    "    random.seed(10)\n",
    "    #print(\"number of rows are \"+str(number_of_rows))\n",
    "    #non_sepsis_random_indices = np.random.sample(df_non_sepsis.shape[0], Number_of_non_sepsis_records)\n",
    "    non_sepsis_random_indices =np.random.choice(df_non_sepsis.shape[0], Number_of_non_sepsis_records, replace=False)\n",
    "    print ('size of dataset is  '+str(df_non_sepsis.shape[0]))    \n",
    "    print ('size of request is  '+str(Number_of_non_sepsis_records))\n",
    "\n",
    "    print(\"length of non sepsis random_indices is \"+str(non_sepsis_random_indices.shape))\n",
    "    #print(\"random choices are: \"+str(sepsis_random_indices))\n",
    "    return non_sepsis_random_indices"
   ]
  },
  {
   "cell_type": "code",
   "execution_count": 11,
   "id": "1dc5c4eb",
   "metadata": {},
   "outputs": [],
   "source": [
    "#get the sepsis records\n",
    "def get_non_sepsis_file_as_array(record_num):\n",
    "    file_name =df_non_sepsis.loc[record_num,\"Window record No\"]\n",
    "    #print(file_name)\n",
    "    file_path='/Users/davidfueggled/Documents/win16 datasets/NonImp'+str(file_name)+'.csv'\n",
    "    #print(file_path)\n",
    "    if file_name>498000:\n",
    "        file_path='/Users/davidfueggled/Documents/win16 datasets V2/NonImp'+str(file_name)+'.csv'\n",
    "    else:\n",
    "        file_path='/Users/davidfueggled/Documents/win16 datasets/NonImp'+str(file_name)+'.csv'\n",
    "    #print(file_path)\n",
    "    test_record=pd.read_csv(file_path)\n",
    "    test_record=test_record.loc[:,\"HR\":\"Resp\"]\n",
    "    #test_record.loc[:,\"SepsisLabel\"]=0\n",
    "    frame_non_sepsis=test_record.to_numpy()\n",
    "    frame_non_sepsis=np.expand_dims(frame_non_sepsis, axis=0)\n",
    "    #frame.shape\n",
    "    return frame_non_sepsis"
   ]
  },
  {
   "cell_type": "code",
   "execution_count": 283,
   "id": "24845424",
   "metadata": {},
   "outputs": [],
   "source": [
    "#get the non sepsis records to pad out sepsis to 10%\n",
    "def get_53_non_sepsis_file_as_array(next_record,non_sepsis_random_indices ):\n",
    "    data_non_sepsis_block10=np.zeros((1, size_of_window, number_of_features))\n",
    "    for i in range(0,53):\n",
    "    #for i in range(0,5):\n",
    "        next_file=non_sepsis_random_indices[next_record+i]\n",
    "        #print(\"next file is \"+str(next_file))\n",
    "        file_name =df_non_sepsis.loc[next_file,\"Window record No\"]\n",
    "        #print(file_name)\n",
    "        file_path='/Users/davidfueggled/Documents/win16 datasets/NonImp'+str(file_name)+'.csv'\n",
    "        #print(file_path)\n",
    "        if file_name>498000:\n",
    "            file_path='/Users/davidfueggled/Documents/win16 datasets V2/NonImp'+str(file_name)+'.csv'\n",
    "        else:\n",
    "            file_path='/Users/davidfueggled/Documents/win16 datasets/NonImp'+str(file_name)+'.csv'\n",
    "        #print(file_path)\n",
    "        test_record=pd.read_csv(file_path)\n",
    "        test_record=test_record.loc[:,\"HR\":\"Resp\"]\n",
    "        #test_record.loc[:,\"SepsisLabel\"]=0\n",
    "        frame_non_sepsis=test_record.to_numpy()\n",
    "        frame_non_sepsis=np.expand_dims(frame_non_sepsis, axis=0)\n",
    "        data_non_sepsis_block10=np.vstack((data_non_sepsis_block10,frame_non_sepsis))\n",
    "        #frame.shape\n",
    "    data_non_sepsis_block10= np.delete(data_non_sepsis_block10, 0, 0)\n",
    "    next_record=next_record+52\n",
    "    return data_non_sepsis_block10,next_record"
   ]
  },
  {
   "cell_type": "code",
   "execution_count": 331,
   "id": "3c49b2b9",
   "metadata": {},
   "outputs": [],
   "source": [
    "#get the non sepsis records to pad out sepsis to 50%\n",
    "def get_7_non_sepsis_file_as_array(next_record,non_sepsis_random_indices ):\n",
    "    data_non_sepsis_block10=np.zeros((1, size_of_window, number_of_features))\n",
    "    for i in range(0,7):\n",
    "    #for i in range(0,5):\n",
    "        next_file=non_sepsis_random_indices[next_record+i]\n",
    "        #print(\"next file is \"+str(next_file))\n",
    "        file_name =df_non_sepsis.loc[next_file,\"Window record No\"]\n",
    "        #print(file_name)\n",
    "        file_path='/Users/davidfueggled/Documents/win16 datasets/NonImp'+str(file_name)+'.csv'\n",
    "        #print(file_path)\n",
    "        if file_name>498000:\n",
    "            file_path='/Users/davidfueggled/Documents/win16 datasets V2/NonImp'+str(file_name)+'.csv'\n",
    "        else:\n",
    "            file_path='/Users/davidfueggled/Documents/win16 datasets/NonImp'+str(file_name)+'.csv'\n",
    "        #print(file_path)\n",
    "        test_record=pd.read_csv(file_path)\n",
    "        test_record=test_record.loc[:,\"HR\":\"Resp\"]\n",
    "        #test_record.loc[:,\"SepsisLabel\"]=0\n",
    "        frame_non_sepsis=test_record.to_numpy()\n",
    "        frame_non_sepsis=np.expand_dims(frame_non_sepsis, axis=0)\n",
    "        data_non_sepsis_block10=np.vstack((data_non_sepsis_block10,frame_non_sepsis))\n",
    "        #frame.shape\n",
    "    data_non_sepsis_block10= np.delete(data_non_sepsis_block10, 0, 0)\n",
    "    next_record=next_record+52\n",
    "    return data_non_sepsis_block10,next_record"
   ]
  },
  {
   "cell_type": "code",
   "execution_count": 13,
   "id": "52b0ad42",
   "metadata": {},
   "outputs": [],
   "source": [
    "# useful for developing ideas but not used in final code\n",
    "def get_block_of_ten_entries(list_of_non_sepsis_random, start_number):\n",
    "    data_non_sepsis_block10=np.zeros((1, size_of_window, number_of_features))\n",
    "    for i in range(0,10):\n",
    "        #identify next file\n",
    "        frame_non_sepsis =get_non_sepsis_file_as_array(start_number+i)\n",
    "        data_non_sepsis_block10=np.vstack((data_non_sepsis_block_10,frame_non_sepsis))\n",
    "    \n",
    "    print(\"data shape is \"+ str(data_non_sepsis_block10)) \n",
    "    data_non_sepsis= np.delete(data_non_sepsis_block10, 0, 0)\n",
    "    return next_block,next_number\n"
   ]
  },
  {
   "cell_type": "code",
   "execution_count": 182,
   "id": "d565fecb",
   "metadata": {},
   "outputs": [
    {
     "data": {
      "text/plain": [
       "9103"
      ]
     },
     "execution_count": 182,
     "metadata": {},
     "output_type": "execute_result"
    }
   ],
   "source": [
    "#get non sepsis list\n",
    "df_non_sepsis = pd.read_csv(path_non_sepsis)\n",
    "no_of_files_non_sepsis=df_non_sepsis.shape[0]\n",
    "no_of_files_non_sepsis"
   ]
  },
  {
   "cell_type": "code",
   "execution_count": 33,
   "id": "aa841162",
   "metadata": {
    "scrolled": true
   },
   "outputs": [
    {
     "data": {
      "text/html": [
       "<div>\n",
       "<style scoped>\n",
       "    .dataframe tbody tr th:only-of-type {\n",
       "        vertical-align: middle;\n",
       "    }\n",
       "\n",
       "    .dataframe tbody tr th {\n",
       "        vertical-align: top;\n",
       "    }\n",
       "\n",
       "    .dataframe thead th {\n",
       "        text-align: right;\n",
       "    }\n",
       "</style>\n",
       "<table border=\"1\" class=\"dataframe\">\n",
       "  <thead>\n",
       "    <tr style=\"text-align: right;\">\n",
       "      <th></th>\n",
       "      <th>Unnamed: 0</th>\n",
       "      <th>Original file name</th>\n",
       "      <th>X file name</th>\n",
       "      <th>y file name</th>\n",
       "      <th>Num Windows</th>\n",
       "      <th>Unnamed: 5</th>\n",
       "      <th>Unnamed: 6</th>\n",
       "      <th>Unnamed: 7</th>\n",
       "      <th>Unnamed: 8</th>\n",
       "      <th>Unnamed: 9</th>\n",
       "    </tr>\n",
       "  </thead>\n",
       "  <tbody>\n",
       "    <tr>\n",
       "      <th>0</th>\n",
       "      <td>0.0</td>\n",
       "      <td>p00312.psv</td>\n",
       "      <td>X Sepsis consequetive windows associated with ...</td>\n",
       "      <td>y Sepsis consequetive windows associated with ...</td>\n",
       "      <td>8</td>\n",
       "      <td>NaN</td>\n",
       "      <td>NaN</td>\n",
       "      <td>108.0</td>\n",
       "      <td>0.0</td>\n",
       "      <td>16.0</td>\n",
       "    </tr>\n",
       "    <tr>\n",
       "      <th>1</th>\n",
       "      <td>1.0</td>\n",
       "      <td>p00504.psv</td>\n",
       "      <td>X Sepsis consequetive windows associated with ...</td>\n",
       "      <td>y Sepsis consequetive windows associated with ...</td>\n",
       "      <td>6</td>\n",
       "      <td>NaN</td>\n",
       "      <td>NaN</td>\n",
       "      <td>114.0</td>\n",
       "      <td>17.0</td>\n",
       "      <td>34.0</td>\n",
       "    </tr>\n",
       "    <tr>\n",
       "      <th>2</th>\n",
       "      <td>2.0</td>\n",
       "      <td>p00673.psv</td>\n",
       "      <td>X Sepsis consequetive windows associated with ...</td>\n",
       "      <td>y Sepsis consequetive windows associated with ...</td>\n",
       "      <td>16</td>\n",
       "      <td>16.0</td>\n",
       "      <td>1.0</td>\n",
       "      <td>114.0</td>\n",
       "      <td>35.0</td>\n",
       "      <td>51.0</td>\n",
       "    </tr>\n",
       "    <tr>\n",
       "      <th>3</th>\n",
       "      <td>3.0</td>\n",
       "      <td>p00675.psv</td>\n",
       "      <td>X Sepsis consequetive windows associated with ...</td>\n",
       "      <td>y Sepsis consequetive windows associated with ...</td>\n",
       "      <td>3</td>\n",
       "      <td>NaN</td>\n",
       "      <td>NaN</td>\n",
       "      <td>117.0</td>\n",
       "      <td>52.0</td>\n",
       "      <td>65.0</td>\n",
       "    </tr>\n",
       "    <tr>\n",
       "      <th>4</th>\n",
       "      <td>4.0</td>\n",
       "      <td>p00705.psv</td>\n",
       "      <td>X Sepsis consequetive windows associated with ...</td>\n",
       "      <td>y Sepsis consequetive windows associated with ...</td>\n",
       "      <td>1</td>\n",
       "      <td>NaN</td>\n",
       "      <td>NaN</td>\n",
       "      <td>122.0</td>\n",
       "      <td>66.0</td>\n",
       "      <td>83.0</td>\n",
       "    </tr>\n",
       "    <tr>\n",
       "      <th>...</th>\n",
       "      <td>...</td>\n",
       "      <td>...</td>\n",
       "      <td>...</td>\n",
       "      <td>...</td>\n",
       "      <td>...</td>\n",
       "      <td>...</td>\n",
       "      <td>...</td>\n",
       "      <td>...</td>\n",
       "      <td>...</td>\n",
       "      <td>...</td>\n",
       "    </tr>\n",
       "    <tr>\n",
       "      <th>80</th>\n",
       "      <td>80.0</td>\n",
       "      <td>p119082.psv</td>\n",
       "      <td>X Sepsis consequetive windows associated with ...</td>\n",
       "      <td>y Sepsis consequetive windows associated with ...</td>\n",
       "      <td>2</td>\n",
       "      <td>NaN</td>\n",
       "      <td>NaN</td>\n",
       "      <td>NaN</td>\n",
       "      <td>NaN</td>\n",
       "      <td>NaN</td>\n",
       "    </tr>\n",
       "    <tr>\n",
       "      <th>81</th>\n",
       "      <td>81.0</td>\n",
       "      <td>p119463.psv</td>\n",
       "      <td>X Sepsis consequetive windows associated with ...</td>\n",
       "      <td>y Sepsis consequetive windows associated with ...</td>\n",
       "      <td>6</td>\n",
       "      <td>NaN</td>\n",
       "      <td>NaN</td>\n",
       "      <td>NaN</td>\n",
       "      <td>NaN</td>\n",
       "      <td>NaN</td>\n",
       "    </tr>\n",
       "    <tr>\n",
       "      <th>82</th>\n",
       "      <td>82.0</td>\n",
       "      <td>p119749.psv</td>\n",
       "      <td>X Sepsis consequetive windows associated with ...</td>\n",
       "      <td>y Sepsis consequetive windows associated with ...</td>\n",
       "      <td>7</td>\n",
       "      <td>NaN</td>\n",
       "      <td>NaN</td>\n",
       "      <td>NaN</td>\n",
       "      <td>NaN</td>\n",
       "      <td>NaN</td>\n",
       "    </tr>\n",
       "    <tr>\n",
       "      <th>83</th>\n",
       "      <td>83.0</td>\n",
       "      <td>p119910.psv</td>\n",
       "      <td>X Sepsis consequetive windows associated with ...</td>\n",
       "      <td>y Sepsis consequetive windows associated with ...</td>\n",
       "      <td>4</td>\n",
       "      <td>NaN</td>\n",
       "      <td>NaN</td>\n",
       "      <td>NaN</td>\n",
       "      <td>NaN</td>\n",
       "      <td>NaN</td>\n",
       "    </tr>\n",
       "    <tr>\n",
       "      <th>84</th>\n",
       "      <td>NaN</td>\n",
       "      <td>NaN</td>\n",
       "      <td>NaN</td>\n",
       "      <td>NaN</td>\n",
       "      <td>575</td>\n",
       "      <td>294.0</td>\n",
       "      <td>22.0</td>\n",
       "      <td>575.0</td>\n",
       "      <td>NaN</td>\n",
       "      <td>NaN</td>\n",
       "    </tr>\n",
       "  </tbody>\n",
       "</table>\n",
       "<p>85 rows × 10 columns</p>\n",
       "</div>"
      ],
      "text/plain": [
       "    Unnamed: 0 Original file name  \\\n",
       "0          0.0         p00312.psv   \n",
       "1          1.0         p00504.psv   \n",
       "2          2.0         p00673.psv   \n",
       "3          3.0         p00675.psv   \n",
       "4          4.0         p00705.psv   \n",
       "..         ...                ...   \n",
       "80        80.0        p119082.psv   \n",
       "81        81.0        p119463.psv   \n",
       "82        82.0        p119749.psv   \n",
       "83        83.0        p119910.psv   \n",
       "84         NaN                NaN   \n",
       "\n",
       "                                          X file name  \\\n",
       "0   X Sepsis consequetive windows associated with ...   \n",
       "1   X Sepsis consequetive windows associated with ...   \n",
       "2   X Sepsis consequetive windows associated with ...   \n",
       "3   X Sepsis consequetive windows associated with ...   \n",
       "4   X Sepsis consequetive windows associated with ...   \n",
       "..                                                ...   \n",
       "80  X Sepsis consequetive windows associated with ...   \n",
       "81  X Sepsis consequetive windows associated with ...   \n",
       "82  X Sepsis consequetive windows associated with ...   \n",
       "83  X Sepsis consequetive windows associated with ...   \n",
       "84                                                NaN   \n",
       "\n",
       "                                          y file name  Num Windows  \\\n",
       "0   y Sepsis consequetive windows associated with ...            8   \n",
       "1   y Sepsis consequetive windows associated with ...            6   \n",
       "2   y Sepsis consequetive windows associated with ...           16   \n",
       "3   y Sepsis consequetive windows associated with ...            3   \n",
       "4   y Sepsis consequetive windows associated with ...            1   \n",
       "..                                                ...          ...   \n",
       "80  y Sepsis consequetive windows associated with ...            2   \n",
       "81  y Sepsis consequetive windows associated with ...            6   \n",
       "82  y Sepsis consequetive windows associated with ...            7   \n",
       "83  y Sepsis consequetive windows associated with ...            4   \n",
       "84                                                NaN          575   \n",
       "\n",
       "    Unnamed: 5  Unnamed: 6  Unnamed: 7  Unnamed: 8  Unnamed: 9  \n",
       "0          NaN         NaN       108.0         0.0        16.0  \n",
       "1          NaN         NaN       114.0        17.0        34.0  \n",
       "2         16.0         1.0       114.0        35.0        51.0  \n",
       "3          NaN         NaN       117.0        52.0        65.0  \n",
       "4          NaN         NaN       122.0        66.0        83.0  \n",
       "..         ...         ...         ...         ...         ...  \n",
       "80         NaN         NaN         NaN         NaN         NaN  \n",
       "81         NaN         NaN         NaN         NaN         NaN  \n",
       "82         NaN         NaN         NaN         NaN         NaN  \n",
       "83         NaN         NaN         NaN         NaN         NaN  \n",
       "84       294.0        22.0       575.0         NaN         NaN  \n",
       "\n",
       "[85 rows x 10 columns]"
      ]
     },
     "execution_count": 33,
     "metadata": {},
     "output_type": "execute_result"
    }
   ],
   "source": [
    "#get sepsis list\n",
    "path_for_np='/Users/davidfueggled/Documents/win16 train test datasets/'\n",
    "file_list_windows=pd.read_csv(path_for_np+'list of sequential windows attached to each filename.csv')   \n",
    "file_list_windows"
   ]
  },
  {
   "cell_type": "markdown",
   "id": "b57249ed",
   "metadata": {},
   "source": [
    "# creating 'Data set A 1000 records combined 10% non-imputed sepsis and random non_sepsis.npy'"
   ]
  },
  {
   "cell_type": "code",
   "execution_count": 195,
   "id": "90e8c8eb",
   "metadata": {},
   "outputs": [
    {
     "name": "stdout",
     "output_type": "stream",
     "text": [
      "number of non_sepsis_records is 5000\n",
      "size of dataset is  9103\n",
      "size of request is  5000\n",
      "length of non sepsis random_indices is (5000,)\n",
      "number of random numbers is (5000,)\n",
      "size of new non sepsis file is (53, 16, 7)\n",
      "size of new y file is (53,)\n",
      "size of whole y file is now (53,)\n",
      "size of whole file is now (54, 16, 7)\n",
      "interval is 19\n",
      "sepsis_record_number is X Sepsis consequetive windows associated with p100312.psv\n",
      "next sepsis_block size is (8, 16, 7)\n",
      "size of data file is now (62, 16, 7)\n",
      "size of y file is now (61,)\n",
      "size of new non sepsis file is (53, 16, 7)\n",
      "size of new y file is (53,)\n",
      "size of whole y file is now (114,)\n",
      "size of whole file is now (115, 16, 7)\n",
      "interval is 20\n",
      "sepsis_record_number is X Sepsis consequetive windows associated with p100504.psv\n",
      "next sepsis_block size is (6, 16, 7)\n",
      "size of data file is now (121, 16, 7)\n",
      "size of y file is now (120,)\n",
      "size of new non sepsis file is (53, 16, 7)\n",
      "size of new y file is (53,)\n",
      "size of whole y file is now (173,)\n",
      "size of whole file is now (174, 16, 7)\n",
      "interval is 21\n",
      "sepsis_record_number is X Sepsis consequetive windows associated with p100673.psv\n",
      "next sepsis_block size is (16, 16, 7)\n",
      "size of data file is now (190, 16, 7)\n",
      "size of y file is now (189,)\n",
      "size of new non sepsis file is (53, 16, 7)\n",
      "size of new y file is (53,)\n",
      "size of whole y file is now (242,)\n",
      "size of whole file is now (243, 16, 7)\n",
      "interval is 22\n",
      "sepsis_record_number is X Sepsis consequetive windows associated with p100675.psv\n",
      "next sepsis_block size is (3, 16, 7)\n",
      "size of data file is now (246, 16, 7)\n",
      "size of y file is now (245,)\n",
      "size of new non sepsis file is (53, 16, 7)\n",
      "size of new y file is (53,)\n",
      "size of whole y file is now (298,)\n",
      "size of whole file is now (299, 16, 7)\n",
      "interval is 23\n",
      "sepsis_record_number is X Sepsis consequetive windows associated with p100705.psv\n",
      "next sepsis_block size is (1, 16, 7)\n",
      "size of data file is now (300, 16, 7)\n",
      "size of y file is now (299,)\n",
      "size of new non sepsis file is (53, 16, 7)\n",
      "size of new y file is (53,)\n",
      "size of whole y file is now (352,)\n",
      "size of whole file is now (353, 16, 7)\n",
      "interval is 24\n",
      "sepsis_record_number is X Sepsis consequetive windows associated with p100838.psv\n",
      "next sepsis_block size is (6, 16, 7)\n",
      "size of data file is now (359, 16, 7)\n",
      "size of y file is now (358,)\n",
      "size of new non sepsis file is (53, 16, 7)\n",
      "size of new y file is (53,)\n",
      "size of whole y file is now (411,)\n",
      "size of whole file is now (412, 16, 7)\n",
      "interval is 25\n",
      "sepsis_record_number is X Sepsis consequetive windows associated with p101157.psv\n",
      "next sepsis_block size is (5, 16, 7)\n",
      "size of data file is now (417, 16, 7)\n",
      "size of y file is now (416,)\n",
      "size of new non sepsis file is (53, 16, 7)\n",
      "size of new y file is (53,)\n",
      "size of whole y file is now (469,)\n",
      "size of whole file is now (470, 16, 7)\n",
      "interval is 26\n",
      "sepsis_record_number is X Sepsis consequetive windows associated with p101561.psv\n",
      "next sepsis_block size is (8, 16, 7)\n",
      "size of data file is now (478, 16, 7)\n",
      "size of y file is now (477,)\n",
      "size of new non sepsis file is (53, 16, 7)\n",
      "size of new y file is (53,)\n",
      "size of whole y file is now (530,)\n",
      "size of whole file is now (531, 16, 7)\n",
      "interval is 27\n",
      "sepsis_record_number is X Sepsis consequetive windows associated with p101618.psv\n",
      "next sepsis_block size is (4, 16, 7)\n",
      "size of data file is now (535, 16, 7)\n",
      "size of y file is now (534,)\n",
      "size of new non sepsis file is (53, 16, 7)\n",
      "size of new y file is (53,)\n",
      "size of whole y file is now (587,)\n",
      "size of whole file is now (588, 16, 7)\n",
      "interval is 28\n",
      "sepsis_record_number is X Sepsis consequetive windows associated with p101880.psv\n",
      "next sepsis_block size is (11, 16, 7)\n",
      "size of data file is now (599, 16, 7)\n",
      "size of y file is now (598,)\n",
      "size of new non sepsis file is (53, 16, 7)\n",
      "size of new y file is (53,)\n",
      "size of whole y file is now (651,)\n",
      "size of whole file is now (652, 16, 7)\n",
      "interval is 29\n",
      "sepsis_record_number is X Sepsis consequetive windows associated with p102128.psv\n",
      "next sepsis_block size is (16, 16, 7)\n",
      "size of data file is now (668, 16, 7)\n",
      "size of y file is now (667,)\n",
      "size of new non sepsis file is (53, 16, 7)\n",
      "size of new y file is (53,)\n",
      "size of whole y file is now (720,)\n",
      "size of whole file is now (721, 16, 7)\n",
      "interval is 30\n",
      "sepsis_record_number is X Sepsis consequetive windows associated with p102173.psv\n",
      "next sepsis_block size is (6, 16, 7)\n",
      "size of data file is now (727, 16, 7)\n",
      "size of y file is now (726,)\n",
      "size of new non sepsis file is (53, 16, 7)\n",
      "size of new y file is (53,)\n",
      "size of whole y file is now (779,)\n",
      "size of whole file is now (780, 16, 7)\n",
      "interval is 31\n",
      "sepsis_record_number is X Sepsis consequetive windows associated with p102784.psv\n",
      "next sepsis_block size is (2, 16, 7)\n",
      "size of data file is now (782, 16, 7)\n",
      "size of y file is now (781,)\n",
      "size of whole file after top line removed is now (781, 16, 7)\n",
      "size of y file is now (781,)\n",
      "total sepsis is 92.0\n",
      "total non sepsis is 689.0\n"
     ]
    },
    {
     "data": {
      "text/plain": [
       "(781, 16, 7)"
      ]
     },
     "execution_count": 195,
     "metadata": {},
     "output_type": "execute_result"
    }
   ],
   "source": [
    "No_of_non_sepsis_records=5000\n",
    "#start new_record at zero. If future will cary foreward from last part of previous algorithm\n",
    "next_record=0\n",
    "sepsis_ref_no=0\n",
    "data_file_A_sepsis_non_sepsis=np.zeros((1, size_of_window, number_of_features))\n",
    "y_file_A_sepsis_non_sepsis=[]\n",
    "print('number of non_sepsis_records is '+str(No_of_non_sepsis_records))\n",
    "#num_rand_nos=get_random_numbers_non_sepsis(Number_of_non_sepsis_records)\n",
    "non_sepsis_random_indices=get_random_numbers_non_sepsis(No_of_non_sepsis_records)\n",
    "print('number of random numbers is '+str(num_rand_nos.shape))\n",
    "#get_non_sepsis_file_as_array(record_num)\n",
    "for interval in Data_list_A:\n",
    "    data_non_sepsis,next_record=get_53_non_sepsis_file_as_array(next_record,non_sepsis_random_indices)\n",
    "    print ('size of new non sepsis file is '+ str(data_non_sepsis.shape))\n",
    "    #create corresponding y_file\n",
    "    next_y_record_non_sepsis=np.zeros(data_non_sepsis.shape[0])\n",
    "    print ('size of new y file is '+ str(next_y_record_non_sepsis.shape))\n",
    "    y_file_A_sepsis_non_sepsis=np.concatenate((y_file_A_sepsis_non_sepsis,next_y_record_non_sepsis))\n",
    "    print ('size of whole y file is now '+ str(y_file_A_sepsis_non_sepsis.shape))\n",
    "    data_file_A_sepsis_non_sepsis=np.vstack((data_file_A_sepsis_non_sepsis,data_non_sepsis))\n",
    "    print ('size of whole file is now '+ str(data_file_A_sepsis_non_sepsis.shape))\n",
    "    #next_record=next_record+10\n",
    "    print('interval is '+str(interval))\n",
    "    sepsis_record_number=file_list_windows.loc[interval,'X file name']\n",
    "    print('sepsis_record_number is '+str(sepsis_record_number))\n",
    "    next_sepsis_block=np.load(path_for_np+sepsis_record_number+'.npy')\n",
    "    print('next sepsis_block size is ' +str(next_sepsis_block.shape))\n",
    "    data_file_A_sepsis_non_sepsis=np.vstack((data_file_A_sepsis_non_sepsis,next_sepsis_block))\n",
    "    next_y_record_sepsis=np.ones(next_sepsis_block.shape[0])\n",
    "    y_file_A_sepsis_non_sepsis=np.concatenate((y_file_A_sepsis_non_sepsis,next_y_record_sepsis))\n",
    "    print ('size of data file is now '+ str(data_file_A_sepsis_non_sepsis.shape))\n",
    "    print ('size of y file is now '+ str(y_file_A_sepsis_non_sepsis.shape))\n",
    "data_file_A_sepsis_non_sepsis= np.delete(data_file_A_sepsis_non_sepsis, 0, 0)\n",
    "print ('size of whole file after top line removed is now '+ str(data_file_A_sepsis_non_sepsis.shape))\n",
    "print ('size of y file is now '+ str(y_file_A_sepsis_non_sepsis.shape))\n",
    "print('total sepsis is '+str(sum(y_file_A_sepsis_non_sepsis)))\n",
    "print('total non sepsis is '+str(len(data_file_A_sepsis_non_sepsis)-sum(y_file_A_sepsis_non_sepsis)))\n",
    "data_file_A_sepsis_non_sepsis.shape\n",
    "\n",
    "#save\n",
    "#filename_set_A='Data set A 1000 records combined 10% non-imputed sepsis and random non_sepsis.npy'\n",
    "#np.save(path_for_np+file_name_set_A,data_file_A_sepsis_non_sepsis)\n",
    "\n",
    "#add BCDE"
   ]
  },
  {
   "cell_type": "code",
   "execution_count": 196,
   "id": "cd1c02b3",
   "metadata": {},
   "outputs": [
    {
     "data": {
      "text/plain": [
       "(781, 7, 16)"
      ]
     },
     "execution_count": 196,
     "metadata": {},
     "output_type": "execute_result"
    }
   ],
   "source": [
    "# Need to rotate numpy array to allign with classifiers\n",
    "A_data=data_file_A_sepsis_non_sepsis\n",
    "A_data=A_data.transpose(0,2,1)\n",
    "A_data.shape"
   ]
  },
  {
   "cell_type": "code",
   "execution_count": 197,
   "id": "dae99eca",
   "metadata": {},
   "outputs": [
    {
     "data": {
      "text/plain": [
       "(781,)"
      ]
     },
     "execution_count": 197,
     "metadata": {},
     "output_type": "execute_result"
    }
   ],
   "source": [
    "A_ycol=y_file_A_sepsis_non_sepsis\n",
    "A_ycol.shape"
   ]
  },
  {
   "cell_type": "code",
   "execution_count": 198,
   "id": "3b385a03",
   "metadata": {},
   "outputs": [
    {
     "data": {
      "text/plain": [
       "676"
      ]
     },
     "execution_count": 198,
     "metadata": {},
     "output_type": "execute_result"
    }
   ],
   "source": [
    "#next record starts the new set at  particular point inrandom list\n",
    "next_record"
   ]
  },
  {
   "cell_type": "markdown",
   "id": "05fc76c5",
   "metadata": {},
   "source": [
    "# creating 'Data set B 1000 records combined 10% non-imputed sepsis and random non_sepsis.npy'"
   ]
  },
  {
   "cell_type": "code",
   "execution_count": 199,
   "id": "10042321",
   "metadata": {},
   "outputs": [
    {
     "name": "stdout",
     "output_type": "stream",
     "text": [
      "number of non_sepsis_records is 5000\n",
      "number of random numbers is (5000,)\n",
      "size of new non sepsis file is (53, 16, 7)\n",
      "size of new y file is (53,)\n",
      "size of whole y file is now (53,)\n",
      "size of whole file is now (54, 16, 7)\n",
      "interval is 32\n",
      "sepsis_record_number is X Sepsis consequetive windows associated with p102937.psv\n",
      "next sepsis_block size is (5, 16, 7)\n",
      "size of data file is now (59, 16, 7)\n",
      "size of y file is now (58,)\n",
      "size of new non sepsis file is (53, 16, 7)\n",
      "size of new y file is (53,)\n",
      "size of whole y file is now (111,)\n",
      "size of whole file is now (112, 16, 7)\n",
      "interval is 33\n",
      "sepsis_record_number is X Sepsis consequetive windows associated with p103073.psv\n",
      "next sepsis_block size is (3, 16, 7)\n",
      "size of data file is now (115, 16, 7)\n",
      "size of y file is now (114,)\n",
      "size of new non sepsis file is (53, 16, 7)\n",
      "size of new y file is (53,)\n",
      "size of whole y file is now (167,)\n",
      "size of whole file is now (168, 16, 7)\n",
      "interval is 34\n",
      "sepsis_record_number is X Sepsis consequetive windows associated with p103365.psv\n",
      "next sepsis_block size is (3, 16, 7)\n",
      "size of data file is now (171, 16, 7)\n",
      "size of y file is now (170,)\n",
      "size of new non sepsis file is (53, 16, 7)\n",
      "size of new y file is (53,)\n",
      "size of whole y file is now (223,)\n",
      "size of whole file is now (224, 16, 7)\n",
      "interval is 35\n",
      "sepsis_record_number is X Sepsis consequetive windows associated with p103568.psv\n",
      "next sepsis_block size is (5, 16, 7)\n",
      "size of data file is now (229, 16, 7)\n",
      "size of y file is now (228,)\n",
      "size of new non sepsis file is (53, 16, 7)\n",
      "size of new y file is (53,)\n",
      "size of whole y file is now (281,)\n",
      "size of whole file is now (282, 16, 7)\n",
      "interval is 36\n",
      "sepsis_record_number is X Sepsis consequetive windows associated with p104288.psv\n",
      "next sepsis_block size is (10, 16, 7)\n",
      "size of data file is now (292, 16, 7)\n",
      "size of y file is now (291,)\n",
      "size of new non sepsis file is (53, 16, 7)\n",
      "size of new y file is (53,)\n",
      "size of whole y file is now (344,)\n",
      "size of whole file is now (345, 16, 7)\n",
      "interval is 37\n",
      "sepsis_record_number is X Sepsis consequetive windows associated with p104474.psv\n",
      "next sepsis_block size is (1, 16, 7)\n",
      "size of data file is now (346, 16, 7)\n",
      "size of y file is now (345,)\n",
      "size of new non sepsis file is (53, 16, 7)\n",
      "size of new y file is (53,)\n",
      "size of whole y file is now (398,)\n",
      "size of whole file is now (399, 16, 7)\n",
      "interval is 38\n",
      "sepsis_record_number is X Sepsis consequetive windows associated with p105423.psv\n",
      "next sepsis_block size is (2, 16, 7)\n",
      "size of data file is now (401, 16, 7)\n",
      "size of y file is now (400,)\n",
      "size of new non sepsis file is (53, 16, 7)\n",
      "size of new y file is (53,)\n",
      "size of whole y file is now (453,)\n",
      "size of whole file is now (454, 16, 7)\n",
      "interval is 39\n",
      "sepsis_record_number is X Sepsis consequetive windows associated with p105640.psv\n",
      "next sepsis_block size is (10, 16, 7)\n",
      "size of data file is now (464, 16, 7)\n",
      "size of y file is now (463,)\n",
      "size of new non sepsis file is (53, 16, 7)\n",
      "size of new y file is (53,)\n",
      "size of whole y file is now (516,)\n",
      "size of whole file is now (517, 16, 7)\n",
      "interval is 40\n",
      "sepsis_record_number is X Sepsis consequetive windows associated with p105788.psv\n",
      "next sepsis_block size is (6, 16, 7)\n",
      "size of data file is now (523, 16, 7)\n",
      "size of y file is now (522,)\n",
      "size of new non sepsis file is (53, 16, 7)\n",
      "size of new y file is (53,)\n",
      "size of whole y file is now (575,)\n",
      "size of whole file is now (576, 16, 7)\n",
      "interval is 41\n",
      "sepsis_record_number is X Sepsis consequetive windows associated with p105862.psv\n",
      "next sepsis_block size is (10, 16, 7)\n",
      "size of data file is now (586, 16, 7)\n",
      "size of y file is now (585,)\n",
      "size of new non sepsis file is (53, 16, 7)\n",
      "size of new y file is (53,)\n",
      "size of whole y file is now (638,)\n",
      "size of whole file is now (639, 16, 7)\n",
      "interval is 42\n",
      "sepsis_record_number is X Sepsis consequetive windows associated with p106868.psv\n",
      "next sepsis_block size is (1, 16, 7)\n",
      "size of data file is now (640, 16, 7)\n",
      "size of y file is now (639,)\n",
      "size of new non sepsis file is (53, 16, 7)\n",
      "size of new y file is (53,)\n",
      "size of whole y file is now (692,)\n",
      "size of whole file is now (693, 16, 7)\n",
      "interval is 43\n",
      "sepsis_record_number is X Sepsis consequetive windows associated with p106900.psv\n",
      "next sepsis_block size is (8, 16, 7)\n",
      "size of data file is now (701, 16, 7)\n",
      "size of y file is now (700,)\n",
      "size of new non sepsis file is (53, 16, 7)\n",
      "size of new y file is (53,)\n",
      "size of whole y file is now (753,)\n",
      "size of whole file is now (754, 16, 7)\n",
      "interval is 44\n",
      "sepsis_record_number is X Sepsis consequetive windows associated with p107111.psv\n",
      "next sepsis_block size is (8, 16, 7)\n",
      "size of data file is now (762, 16, 7)\n",
      "size of y file is now (761,)\n",
      "size of new non sepsis file is (53, 16, 7)\n",
      "size of new y file is (53,)\n",
      "size of whole y file is now (814,)\n",
      "size of whole file is now (815, 16, 7)\n",
      "interval is 45\n",
      "sepsis_record_number is X Sepsis consequetive windows associated with p107267.psv\n",
      "next sepsis_block size is (4, 16, 7)\n",
      "size of data file is now (819, 16, 7)\n",
      "size of y file is now (818,)\n",
      "size of new non sepsis file is (53, 16, 7)\n",
      "size of new y file is (53,)\n",
      "size of whole y file is now (871,)\n",
      "size of whole file is now (872, 16, 7)\n",
      "interval is 46\n",
      "sepsis_record_number is X Sepsis consequetive windows associated with p107283.psv\n",
      "next sepsis_block size is (2, 16, 7)\n",
      "size of data file is now (874, 16, 7)\n",
      "size of y file is now (873,)\n",
      "size of whole file after top line removed is now (873, 16, 7)\n",
      "size of y file is now (873,)\n",
      "total sepsis is 78.0\n",
      "total non sepsis is 795.0\n"
     ]
    },
    {
     "data": {
      "text/plain": [
       "(873, 16, 7)"
      ]
     },
     "execution_count": 199,
     "metadata": {},
     "output_type": "execute_result"
    }
   ],
   "source": [
    "#No_of_non_sepsis_records=5000\n",
    "#next_record=0\n",
    "sepsis_ref_no=0\n",
    "data_file_B_sepsis_non_sepsis=np.zeros((1, size_of_window, number_of_features))\n",
    "y_file_B_sepsis_non_sepsis=[]\n",
    "print('number of non_sepsis_records is '+str(No_of_non_sepsis_records))\n",
    "#num_rand_nos=get_random_numbers_non_sepsis(Number_of_non_sepsis_records)\n",
    "#non_sepsis_random_indices=get_random_numbers_non_sepsis(No_of_non_sepsis_records)\n",
    "print('number of random numbers is '+str(num_rand_nos.shape))\n",
    "#get_non_sepsis_file_as_array(record_num)\n",
    "for interval in Data_list_B:\n",
    "    data_non_sepsis,next_record=get_53_non_sepsis_file_as_array(next_record,non_sepsis_random_indices)\n",
    "    print ('size of new non sepsis file is '+ str(data_non_sepsis.shape))\n",
    "    #create corresponding y_file\n",
    "    next_y_record_non_sepsis=np.zeros(data_non_sepsis.shape[0])\n",
    "    print ('size of new y file is '+ str(next_y_record_non_sepsis.shape))\n",
    "    y_file_B_sepsis_non_sepsis=np.concatenate((y_file_B_sepsis_non_sepsis,next_y_record_non_sepsis))\n",
    "    print ('size of whole y file is now '+ str(y_file_B_sepsis_non_sepsis.shape))\n",
    "    data_file_B_sepsis_non_sepsis=np.vstack((data_file_B_sepsis_non_sepsis,data_non_sepsis))\n",
    "    print ('size of whole file is now '+ str(data_file_B_sepsis_non_sepsis.shape))\n",
    "    #next_record=next_record+10\n",
    "    print('interval is '+str(interval))\n",
    "    sepsis_record_number=file_list_windows.loc[interval,'X file name']\n",
    "    print('sepsis_record_number is '+str(sepsis_record_number))\n",
    "    next_sepsis_block=np.load(path_for_np+sepsis_record_number+'.npy')\n",
    "    print('next sepsis_block size is ' +str(next_sepsis_block.shape))\n",
    "    data_file_B_sepsis_non_sepsis=np.vstack((data_file_B_sepsis_non_sepsis,next_sepsis_block))\n",
    "    next_y_record_sepsis=np.ones(next_sepsis_block.shape[0])\n",
    "    y_file_B_sepsis_non_sepsis=np.concatenate((y_file_B_sepsis_non_sepsis,next_y_record_sepsis))\n",
    "    print ('size of data file is now '+ str(data_file_B_sepsis_non_sepsis.shape))\n",
    "    print ('size of y file is now '+ str(y_file_B_sepsis_non_sepsis.shape))\n",
    "data_file_B_sepsis_non_sepsis= np.delete(data_file_B_sepsis_non_sepsis, 0, 0)\n",
    "print ('size of whole file after top line removed is now '+ str(data_file_B_sepsis_non_sepsis.shape))\n",
    "print ('size of y file is now '+ str(y_file_B_sepsis_non_sepsis.shape))\n",
    "print('total sepsis is '+str(sum(y_file_B_sepsis_non_sepsis)))\n",
    "print('total non sepsis is '+str(len(data_file_B_sepsis_non_sepsis)-sum(y_file_B_sepsis_non_sepsis)))\n",
    "data_file_B_sepsis_non_sepsis.shape\n",
    "\n"
   ]
  },
  {
   "cell_type": "code",
   "execution_count": 200,
   "id": "a94b9dd0",
   "metadata": {},
   "outputs": [
    {
     "data": {
      "text/plain": [
       "(873, 7, 16)"
      ]
     },
     "execution_count": 200,
     "metadata": {},
     "output_type": "execute_result"
    }
   ],
   "source": [
    "B_data=data_file_B_sepsis_non_sepsis\n",
    "B_data=B_data.transpose(0,2,1)\n",
    "B_data.shape"
   ]
  },
  {
   "cell_type": "code",
   "execution_count": 201,
   "id": "d8d29873",
   "metadata": {},
   "outputs": [
    {
     "data": {
      "text/plain": [
       "(873,)"
      ]
     },
     "execution_count": 201,
     "metadata": {},
     "output_type": "execute_result"
    }
   ],
   "source": [
    "B_ycol=y_file_B_sepsis_non_sepsis\n",
    "B_ycol.shape"
   ]
  },
  {
   "cell_type": "code",
   "execution_count": 202,
   "id": "2c92a996",
   "metadata": {},
   "outputs": [
    {
     "data": {
      "text/plain": [
       "1456"
      ]
     },
     "execution_count": 202,
     "metadata": {},
     "output_type": "execute_result"
    }
   ],
   "source": [
    "next_record"
   ]
  },
  {
   "cell_type": "markdown",
   "id": "f4a527a3",
   "metadata": {},
   "source": [
    "# creating 'Data set C 1000 records combined 10% non-imputed sepsis and random non_sepsis.npy'"
   ]
  },
  {
   "cell_type": "code",
   "execution_count": 203,
   "id": "cea890ce",
   "metadata": {},
   "outputs": [
    {
     "name": "stdout",
     "output_type": "stream",
     "text": [
      "number of non_sepsis_records is 5000\n",
      "number of random numbers is (5000,)\n",
      "size of new non sepsis file is (53, 16, 7)\n",
      "size of new y file is (53,)\n",
      "size of whole y file is now (53,)\n",
      "size of whole file is now (54, 16, 7)\n",
      "interval is 47\n",
      "sepsis_record_number is X Sepsis consequetive windows associated with p107754.psv\n",
      "next sepsis_block size is (10, 16, 7)\n",
      "size of data file is now (64, 16, 7)\n",
      "size of y file is now (63,)\n",
      "size of new non sepsis file is (53, 16, 7)\n",
      "size of new y file is (53,)\n",
      "size of whole y file is now (116,)\n",
      "size of whole file is now (117, 16, 7)\n",
      "interval is 48\n",
      "sepsis_record_number is X Sepsis consequetive windows associated with p107830.psv\n",
      "next sepsis_block size is (16, 16, 7)\n",
      "size of data file is now (133, 16, 7)\n",
      "size of y file is now (132,)\n",
      "size of new non sepsis file is (53, 16, 7)\n",
      "size of new y file is (53,)\n",
      "size of whole y file is now (185,)\n",
      "size of whole file is now (186, 16, 7)\n",
      "interval is 49\n",
      "sepsis_record_number is X Sepsis consequetive windows associated with p107979.psv\n",
      "next sepsis_block size is (3, 16, 7)\n",
      "size of data file is now (189, 16, 7)\n",
      "size of y file is now (188,)\n",
      "size of new non sepsis file is (53, 16, 7)\n",
      "size of new y file is (53,)\n",
      "size of whole y file is now (241,)\n",
      "size of whole file is now (242, 16, 7)\n",
      "interval is 50\n",
      "sepsis_record_number is X Sepsis consequetive windows associated with p108086.psv\n",
      "next sepsis_block size is (2, 16, 7)\n",
      "size of data file is now (244, 16, 7)\n",
      "size of y file is now (243,)\n",
      "size of new non sepsis file is (53, 16, 7)\n",
      "size of new y file is (53,)\n",
      "size of whole y file is now (296,)\n",
      "size of whole file is now (297, 16, 7)\n",
      "interval is 51\n",
      "sepsis_record_number is X Sepsis consequetive windows associated with p108163.psv\n",
      "next sepsis_block size is (16, 16, 7)\n",
      "size of data file is now (313, 16, 7)\n",
      "size of y file is now (312,)\n",
      "size of new non sepsis file is (53, 16, 7)\n",
      "size of new y file is (53,)\n",
      "size of whole y file is now (365,)\n",
      "size of whole file is now (366, 16, 7)\n",
      "interval is 52\n",
      "sepsis_record_number is X Sepsis consequetive windows associated with p108381.psv\n",
      "next sepsis_block size is (15, 16, 7)\n",
      "size of data file is now (381, 16, 7)\n",
      "size of y file is now (380,)\n",
      "size of new non sepsis file is (53, 16, 7)\n",
      "size of new y file is (53,)\n",
      "size of whole y file is now (433,)\n",
      "size of whole file is now (434, 16, 7)\n",
      "interval is 53\n",
      "sepsis_record_number is X Sepsis consequetive windows associated with p108717.psv\n",
      "next sepsis_block size is (8, 16, 7)\n",
      "size of data file is now (442, 16, 7)\n",
      "size of y file is now (441,)\n",
      "size of new non sepsis file is (53, 16, 7)\n",
      "size of new y file is (53,)\n",
      "size of whole y file is now (494,)\n",
      "size of whole file is now (495, 16, 7)\n",
      "interval is 54\n",
      "sepsis_record_number is X Sepsis consequetive windows associated with p109218.psv\n",
      "next sepsis_block size is (5, 16, 7)\n",
      "size of data file is now (500, 16, 7)\n",
      "size of y file is now (499,)\n",
      "size of new non sepsis file is (53, 16, 7)\n",
      "size of new y file is (53,)\n",
      "size of whole y file is now (552,)\n",
      "size of whole file is now (553, 16, 7)\n",
      "interval is 55\n",
      "sepsis_record_number is X Sepsis consequetive windows associated with p109338.psv\n",
      "next sepsis_block size is (6, 16, 7)\n",
      "size of data file is now (559, 16, 7)\n",
      "size of y file is now (558,)\n",
      "size of new non sepsis file is (53, 16, 7)\n",
      "size of new y file is (53,)\n",
      "size of whole y file is now (611,)\n",
      "size of whole file is now (612, 16, 7)\n",
      "interval is 56\n",
      "sepsis_record_number is X Sepsis consequetive windows associated with p110600.psv\n",
      "next sepsis_block size is (3, 16, 7)\n",
      "size of data file is now (615, 16, 7)\n",
      "size of y file is now (614,)\n",
      "size of new non sepsis file is (53, 16, 7)\n",
      "size of new y file is (53,)\n",
      "size of whole y file is now (667,)\n",
      "size of whole file is now (668, 16, 7)\n",
      "interval is 57\n",
      "sepsis_record_number is X Sepsis consequetive windows associated with p111054.psv\n",
      "next sepsis_block size is (6, 16, 7)\n",
      "size of data file is now (674, 16, 7)\n",
      "size of y file is now (673,)\n",
      "size of new non sepsis file is (53, 16, 7)\n",
      "size of new y file is (53,)\n",
      "size of whole y file is now (726,)\n",
      "size of whole file is now (727, 16, 7)\n",
      "interval is 58\n",
      "sepsis_record_number is X Sepsis consequetive windows associated with p111537.psv\n",
      "next sepsis_block size is (5, 16, 7)\n",
      "size of data file is now (732, 16, 7)\n",
      "size of y file is now (731,)\n",
      "size of new non sepsis file is (53, 16, 7)\n",
      "size of new y file is (53,)\n",
      "size of whole y file is now (784,)\n",
      "size of whole file is now (785, 16, 7)\n",
      "interval is 59\n",
      "sepsis_record_number is X Sepsis consequetive windows associated with p112097.psv\n",
      "next sepsis_block size is (3, 16, 7)\n",
      "size of data file is now (788, 16, 7)\n",
      "size of y file is now (787,)\n",
      "size of whole file after top line removed is now (787, 16, 7)\n",
      "size of y file is now (787,)\n",
      "total sepsis is 98.0\n",
      "total non sepsis is 689.0\n"
     ]
    },
    {
     "data": {
      "text/plain": [
       "(787, 16, 7)"
      ]
     },
     "execution_count": 203,
     "metadata": {},
     "output_type": "execute_result"
    }
   ],
   "source": [
    "#No_of_non_sepsis_records=5000\n",
    "#next_record=0\n",
    "sepsis_ref_no=0\n",
    "data_file_C_sepsis_non_sepsis=np.zeros((1, size_of_window, number_of_features))\n",
    "y_file_C_sepsis_non_sepsis=[]\n",
    "print('number of non_sepsis_records is '+str(No_of_non_sepsis_records))\n",
    "#num_rand_nos=get_random_numbers_non_sepsis(Number_of_non_sepsis_records)\n",
    "#non_sepsis_random_indices=get_random_numbers_non_sepsis(No_of_non_sepsis_records)\n",
    "print('number of random numbers is '+str(num_rand_nos.shape))\n",
    "#get_non_sepsis_file_as_array(record_num)\n",
    "for interval in Data_list_C:\n",
    "    data_non_sepsis,next_record=get_53_non_sepsis_file_as_array(next_record,non_sepsis_random_indices)\n",
    "    print ('size of new non sepsis file is '+ str(data_non_sepsis.shape))\n",
    "    #create corresponding y_file\n",
    "    next_y_record_non_sepsis=np.zeros(data_non_sepsis.shape[0])\n",
    "    print ('size of new y file is '+ str(next_y_record_non_sepsis.shape))\n",
    "    y_file_C_sepsis_non_sepsis=np.concatenate((y_file_C_sepsis_non_sepsis,next_y_record_non_sepsis))\n",
    "    print ('size of whole y file is now '+ str(y_file_C_sepsis_non_sepsis.shape))\n",
    "    data_file_C_sepsis_non_sepsis=np.vstack((data_file_C_sepsis_non_sepsis,data_non_sepsis))\n",
    "    print ('size of whole file is now '+ str(data_file_C_sepsis_non_sepsis.shape))\n",
    "    #next_record=next_record+10\n",
    "    print('interval is '+str(interval))\n",
    "    sepsis_record_number=file_list_windows.loc[interval,'X file name']\n",
    "    print('sepsis_record_number is '+str(sepsis_record_number))\n",
    "    next_sepsis_block=np.load(path_for_np+sepsis_record_number+'.npy')\n",
    "    print('next sepsis_block size is ' +str(next_sepsis_block.shape))\n",
    "    data_file_C_sepsis_non_sepsis=np.vstack((data_file_C_sepsis_non_sepsis,next_sepsis_block))\n",
    "    next_y_record_sepsis=np.ones(next_sepsis_block.shape[0])\n",
    "    y_file_C_sepsis_non_sepsis=np.concatenate((y_file_C_sepsis_non_sepsis,next_y_record_sepsis))\n",
    "    print ('size of data file is now '+ str(data_file_C_sepsis_non_sepsis.shape))\n",
    "    print ('size of y file is now '+ str(y_file_C_sepsis_non_sepsis.shape))\n",
    "data_file_C_sepsis_non_sepsis= np.delete(data_file_C_sepsis_non_sepsis, 0, 0)\n",
    "print ('size of whole file after top line removed is now '+ str(data_file_C_sepsis_non_sepsis.shape))\n",
    "print ('size of y file is now '+ str(y_file_C_sepsis_non_sepsis.shape))\n",
    "print('total sepsis is '+str(sum(y_file_C_sepsis_non_sepsis)))\n",
    "print('total non sepsis is '+str(len(data_file_C_sepsis_non_sepsis)-sum(y_file_C_sepsis_non_sepsis)))\n",
    "data_file_C_sepsis_non_sepsis.shape"
   ]
  },
  {
   "cell_type": "code",
   "execution_count": 204,
   "id": "9bc5ecef",
   "metadata": {},
   "outputs": [
    {
     "data": {
      "text/plain": [
       "(787, 7, 16)"
      ]
     },
     "execution_count": 204,
     "metadata": {},
     "output_type": "execute_result"
    }
   ],
   "source": [
    "C_data=data_file_C_sepsis_non_sepsis\n",
    "C_data=C_data.transpose(0,2,1)\n",
    "C_data.shape"
   ]
  },
  {
   "cell_type": "code",
   "execution_count": 205,
   "id": "b668feba",
   "metadata": {},
   "outputs": [
    {
     "data": {
      "text/plain": [
       "(787,)"
      ]
     },
     "execution_count": 205,
     "metadata": {},
     "output_type": "execute_result"
    }
   ],
   "source": [
    "C_ycol=y_file_C_sepsis_non_sepsis\n",
    "C_ycol.shape"
   ]
  },
  {
   "cell_type": "code",
   "execution_count": 206,
   "id": "1440daaa",
   "metadata": {},
   "outputs": [
    {
     "data": {
      "text/plain": [
       "2132"
      ]
     },
     "execution_count": 206,
     "metadata": {},
     "output_type": "execute_result"
    }
   ],
   "source": [
    "next_record"
   ]
  },
  {
   "cell_type": "markdown",
   "id": "a8ae8fb6",
   "metadata": {},
   "source": [
    "# creating 'Data set D 1000 records combined 10% non-imputed sepsis and random non_sepsis.npy'"
   ]
  },
  {
   "cell_type": "code",
   "execution_count": 207,
   "id": "e54bbcd8",
   "metadata": {},
   "outputs": [
    {
     "name": "stdout",
     "output_type": "stream",
     "text": [
      "number of non_sepsis_records is 5000\n",
      "number of random numbers is (5000,)\n",
      "size of new non sepsis file is (53, 16, 7)\n",
      "size of new y file is (53,)\n",
      "size of whole y file is now (53,)\n",
      "size of whole file is now (54, 16, 7)\n",
      "interval is 60\n",
      "sepsis_record_number is X Sepsis consequetive windows associated with p112569.psv\n",
      "next sepsis_block size is (14, 16, 7)\n",
      "size of data file is now (68, 16, 7)\n",
      "size of y file is now (67,)\n",
      "size of new non sepsis file is (53, 16, 7)\n",
      "size of new y file is (53,)\n",
      "size of whole y file is now (120,)\n",
      "size of whole file is now (121, 16, 7)\n",
      "interval is 61\n",
      "sepsis_record_number is X Sepsis consequetive windows associated with p112602.psv\n",
      "next sepsis_block size is (1, 16, 7)\n",
      "size of data file is now (122, 16, 7)\n",
      "size of y file is now (121,)\n",
      "size of new non sepsis file is (53, 16, 7)\n",
      "size of new y file is (53,)\n",
      "size of whole y file is now (174,)\n",
      "size of whole file is now (175, 16, 7)\n",
      "interval is 62\n",
      "sepsis_record_number is X Sepsis consequetive windows associated with p112640.psv\n",
      "next sepsis_block size is (10, 16, 7)\n",
      "size of data file is now (185, 16, 7)\n",
      "size of y file is now (184,)\n",
      "size of new non sepsis file is (53, 16, 7)\n",
      "size of new y file is (53,)\n",
      "size of whole y file is now (237,)\n",
      "size of whole file is now (238, 16, 7)\n",
      "interval is 63\n",
      "sepsis_record_number is X Sepsis consequetive windows associated with p113388.psv\n",
      "next sepsis_block size is (16, 16, 7)\n",
      "size of data file is now (254, 16, 7)\n",
      "size of y file is now (253,)\n",
      "size of new non sepsis file is (53, 16, 7)\n",
      "size of new y file is (53,)\n",
      "size of whole y file is now (306,)\n",
      "size of whole file is now (307, 16, 7)\n",
      "interval is 64\n",
      "sepsis_record_number is X Sepsis consequetive windows associated with p113783.psv\n",
      "next sepsis_block size is (16, 16, 7)\n",
      "size of data file is now (323, 16, 7)\n",
      "size of y file is now (322,)\n",
      "size of new non sepsis file is (53, 16, 7)\n",
      "size of new y file is (53,)\n",
      "size of whole y file is now (375,)\n",
      "size of whole file is now (376, 16, 7)\n",
      "interval is 65\n",
      "sepsis_record_number is X Sepsis consequetive windows associated with p113897.psv\n",
      "next sepsis_block size is (9, 16, 7)\n",
      "size of data file is now (385, 16, 7)\n",
      "size of y file is now (384,)\n",
      "size of new non sepsis file is (53, 16, 7)\n",
      "size of new y file is (53,)\n",
      "size of whole y file is now (437,)\n",
      "size of whole file is now (438, 16, 7)\n",
      "interval is 66\n",
      "sepsis_record_number is X Sepsis consequetive windows associated with p113944.psv\n",
      "next sepsis_block size is (8, 16, 7)\n",
      "size of data file is now (446, 16, 7)\n",
      "size of y file is now (445,)\n",
      "size of new non sepsis file is (53, 16, 7)\n",
      "size of new y file is (53,)\n",
      "size of whole y file is now (498,)\n",
      "size of whole file is now (499, 16, 7)\n",
      "interval is 67\n",
      "sepsis_record_number is X Sepsis consequetive windows associated with p114100.psv\n",
      "next sepsis_block size is (13, 16, 7)\n",
      "size of data file is now (512, 16, 7)\n",
      "size of y file is now (511,)\n",
      "size of new non sepsis file is (53, 16, 7)\n",
      "size of new y file is (53,)\n",
      "size of whole y file is now (564,)\n",
      "size of whole file is now (565, 16, 7)\n",
      "interval is 68\n",
      "sepsis_record_number is X Sepsis consequetive windows associated with p115594.psv\n",
      "next sepsis_block size is (2, 16, 7)\n",
      "size of data file is now (567, 16, 7)\n",
      "size of y file is now (566,)\n",
      "size of new non sepsis file is (53, 16, 7)\n",
      "size of new y file is (53,)\n",
      "size of whole y file is now (619,)\n",
      "size of whole file is now (620, 16, 7)\n",
      "interval is 69\n",
      "sepsis_record_number is X Sepsis consequetive windows associated with p115826.psv\n",
      "next sepsis_block size is (3, 16, 7)\n",
      "size of data file is now (623, 16, 7)\n",
      "size of y file is now (622,)\n",
      "size of whole file after top line removed is now (622, 16, 7)\n",
      "size of y file is now (622,)\n",
      "total sepsis is 92.0\n",
      "total non sepsis is 530.0\n"
     ]
    },
    {
     "data": {
      "text/plain": [
       "(622, 16, 7)"
      ]
     },
     "execution_count": 207,
     "metadata": {},
     "output_type": "execute_result"
    }
   ],
   "source": [
    "#No_of_non_sepsis_records=5000\n",
    "#next_record=0\n",
    "sepsis_ref_no=0\n",
    "data_file_D_sepsis_non_sepsis=np.zeros((1, size_of_window, number_of_features))\n",
    "y_file_D_sepsis_non_sepsis=[]\n",
    "print('number of non_sepsis_records is '+str(No_of_non_sepsis_records))\n",
    "#num_rand_nos=get_random_numbers_non_sepsis(Number_of_non_sepsis_records)\n",
    "#non_sepsis_random_indices=get_random_numbers_non_sepsis(No_of_non_sepsis_records)\n",
    "print('number of random numbers is '+str(num_rand_nos.shape))\n",
    "#get_non_sepsis_file_as_array(record_num)\n",
    "for interval in Data_list_D:\n",
    "    data_non_sepsis,next_record=get_53_non_sepsis_file_as_array(next_record,non_sepsis_random_indices)\n",
    "    print ('size of new non sepsis file is '+ str(data_non_sepsis.shape))\n",
    "    #create corresponding y_file\n",
    "    next_y_record_non_sepsis=np.zeros(data_non_sepsis.shape[0])\n",
    "    print ('size of new y file is '+ str(next_y_record_non_sepsis.shape))\n",
    "    y_file_D_sepsis_non_sepsis=np.concatenate((y_file_D_sepsis_non_sepsis,next_y_record_non_sepsis))\n",
    "    print ('size of whole y file is now '+ str(y_file_D_sepsis_non_sepsis.shape))\n",
    "    data_file_D_sepsis_non_sepsis=np.vstack((data_file_D_sepsis_non_sepsis,data_non_sepsis))\n",
    "    print ('size of whole file is now '+ str(data_file_D_sepsis_non_sepsis.shape))\n",
    "    #next_record=next_record+10\n",
    "    print('interval is '+str(interval))\n",
    "    sepsis_record_number=file_list_windows.loc[interval,'X file name']\n",
    "    print('sepsis_record_number is '+str(sepsis_record_number))\n",
    "    next_sepsis_block=np.load(path_for_np+sepsis_record_number+'.npy')\n",
    "    print('next sepsis_block size is ' +str(next_sepsis_block.shape))\n",
    "    data_file_D_sepsis_non_sepsis=np.vstack((data_file_D_sepsis_non_sepsis,next_sepsis_block))\n",
    "    next_y_record_sepsis=np.ones(next_sepsis_block.shape[0])\n",
    "    y_file_D_sepsis_non_sepsis=np.concatenate((y_file_D_sepsis_non_sepsis,next_y_record_sepsis))\n",
    "    print ('size of data file is now '+ str(data_file_D_sepsis_non_sepsis.shape))\n",
    "    print ('size of y file is now '+ str(y_file_D_sepsis_non_sepsis.shape))\n",
    "data_file_D_sepsis_non_sepsis= np.delete(data_file_D_sepsis_non_sepsis, 0, 0)\n",
    "print ('size of whole file after top line removed is now '+ str(data_file_D_sepsis_non_sepsis.shape))\n",
    "print ('size of y file is now '+ str(y_file_D_sepsis_non_sepsis.shape))\n",
    "print('total sepsis is '+str(sum(y_file_D_sepsis_non_sepsis)))\n",
    "print('total non sepsis is '+str(len(data_file_D_sepsis_non_sepsis)-sum(y_file_D_sepsis_non_sepsis)))\n",
    "data_file_D_sepsis_non_sepsis.shape"
   ]
  },
  {
   "cell_type": "code",
   "execution_count": 208,
   "id": "3f96324d",
   "metadata": {},
   "outputs": [
    {
     "data": {
      "text/plain": [
       "(622, 7, 16)"
      ]
     },
     "execution_count": 208,
     "metadata": {},
     "output_type": "execute_result"
    }
   ],
   "source": [
    "D_data=data_file_D_sepsis_non_sepsis\n",
    "D_data=D_data.transpose(0,2,1)\n",
    "D_data.shape"
   ]
  },
  {
   "cell_type": "code",
   "execution_count": 209,
   "id": "9fb78a27",
   "metadata": {},
   "outputs": [
    {
     "data": {
      "text/plain": [
       "(622,)"
      ]
     },
     "execution_count": 209,
     "metadata": {},
     "output_type": "execute_result"
    }
   ],
   "source": [
    "D_ycol=y_file_D_sepsis_non_sepsis\n",
    "D_ycol.shape"
   ]
  },
  {
   "cell_type": "code",
   "execution_count": 110,
   "id": "1eb05e7a",
   "metadata": {},
   "outputs": [
    {
     "data": {
      "text/plain": [
       "2652"
      ]
     },
     "execution_count": 110,
     "metadata": {},
     "output_type": "execute_result"
    }
   ],
   "source": [
    "next_record"
   ]
  },
  {
   "cell_type": "markdown",
   "id": "2ad506fd",
   "metadata": {},
   "source": [
    "# creating 'Data set E 1000 records combined 10% non-imputed sepsis and random non_sepsis.npy'"
   ]
  },
  {
   "cell_type": "code",
   "execution_count": 210,
   "id": "7e45c2a1",
   "metadata": {},
   "outputs": [
    {
     "name": "stdout",
     "output_type": "stream",
     "text": [
      "number of non_sepsis_records is 5000\n",
      "number of random numbers is (5000,)\n",
      "size of new non sepsis file is (53, 16, 7)\n",
      "size of new y file is (53,)\n",
      "size of whole y file is now (53,)\n",
      "size of whole file is now (54, 16, 7)\n",
      "interval is 70\n",
      "sepsis_record_number is X Sepsis consequetive windows associated with p116237.psv\n",
      "next sepsis_block size is (6, 16, 7)\n",
      "size of data file is now (60, 16, 7)\n",
      "size of y file is now (59,)\n",
      "size of new non sepsis file is (53, 16, 7)\n",
      "size of new y file is (53,)\n",
      "size of whole y file is now (112,)\n",
      "size of whole file is now (113, 16, 7)\n",
      "interval is 71\n",
      "sepsis_record_number is X Sepsis consequetive windows associated with p117335.psv\n",
      "next sepsis_block size is (5, 16, 7)\n",
      "size of data file is now (118, 16, 7)\n",
      "size of y file is now (117,)\n",
      "size of new non sepsis file is (53, 16, 7)\n",
      "size of new y file is (53,)\n",
      "size of whole y file is now (170,)\n",
      "size of whole file is now (171, 16, 7)\n",
      "interval is 72\n",
      "sepsis_record_number is X Sepsis consequetive windows associated with p117399.psv\n",
      "next sepsis_block size is (5, 16, 7)\n",
      "size of data file is now (176, 16, 7)\n",
      "size of y file is now (175,)\n",
      "size of new non sepsis file is (53, 16, 7)\n",
      "size of new y file is (53,)\n",
      "size of whole y file is now (228,)\n",
      "size of whole file is now (229, 16, 7)\n",
      "interval is 73\n",
      "sepsis_record_number is X Sepsis consequetive windows associated with p118449.psv\n",
      "next sepsis_block size is (16, 16, 7)\n",
      "size of data file is now (245, 16, 7)\n",
      "size of y file is now (244,)\n",
      "size of new non sepsis file is (53, 16, 7)\n",
      "size of new y file is (53,)\n",
      "size of whole y file is now (297,)\n",
      "size of whole file is now (298, 16, 7)\n",
      "interval is 74\n",
      "sepsis_record_number is X Sepsis consequetive windows associated with p118461.psv\n",
      "next sepsis_block size is (10, 16, 7)\n",
      "size of data file is now (308, 16, 7)\n",
      "size of y file is now (307,)\n",
      "size of new non sepsis file is (53, 16, 7)\n",
      "size of new y file is (53,)\n",
      "size of whole y file is now (360,)\n",
      "size of whole file is now (361, 16, 7)\n",
      "interval is 75\n",
      "sepsis_record_number is X Sepsis consequetive windows associated with p118501.psv\n",
      "next sepsis_block size is (9, 16, 7)\n",
      "size of data file is now (370, 16, 7)\n",
      "size of y file is now (369,)\n",
      "size of new non sepsis file is (53, 16, 7)\n",
      "size of new y file is (53,)\n",
      "size of whole y file is now (422,)\n",
      "size of whole file is now (423, 16, 7)\n",
      "interval is 76\n",
      "sepsis_record_number is X Sepsis consequetive windows associated with p118783.psv\n",
      "next sepsis_block size is (5, 16, 7)\n",
      "size of data file is now (428, 16, 7)\n",
      "size of y file is now (427,)\n",
      "size of new non sepsis file is (53, 16, 7)\n",
      "size of new y file is (53,)\n",
      "size of whole y file is now (480,)\n",
      "size of whole file is now (481, 16, 7)\n",
      "interval is 77\n",
      "sepsis_record_number is X Sepsis consequetive windows associated with p118804.psv\n",
      "next sepsis_block size is (2, 16, 7)\n",
      "size of data file is now (483, 16, 7)\n",
      "size of y file is now (482,)\n",
      "size of new non sepsis file is (53, 16, 7)\n",
      "size of new y file is (53,)\n",
      "size of whole y file is now (535,)\n",
      "size of whole file is now (536, 16, 7)\n",
      "interval is 78\n",
      "sepsis_record_number is X Sepsis consequetive windows associated with p118848.psv\n",
      "next sepsis_block size is (3, 16, 7)\n",
      "size of data file is now (539, 16, 7)\n",
      "size of y file is now (538,)\n",
      "size of new non sepsis file is (53, 16, 7)\n",
      "size of new y file is (53,)\n",
      "size of whole y file is now (591,)\n",
      "size of whole file is now (592, 16, 7)\n",
      "interval is 79\n",
      "sepsis_record_number is X Sepsis consequetive windows associated with p119061.psv\n",
      "next sepsis_block size is (16, 16, 7)\n",
      "size of data file is now (608, 16, 7)\n",
      "size of y file is now (607,)\n",
      "size of new non sepsis file is (53, 16, 7)\n",
      "size of new y file is (53,)\n",
      "size of whole y file is now (660,)\n",
      "size of whole file is now (661, 16, 7)\n",
      "interval is 80\n",
      "sepsis_record_number is X Sepsis consequetive windows associated with p119082.psv\n",
      "next sepsis_block size is (2, 16, 7)\n",
      "size of data file is now (663, 16, 7)\n",
      "size of y file is now (662,)\n",
      "size of new non sepsis file is (53, 16, 7)\n",
      "size of new y file is (53,)\n",
      "size of whole y file is now (715,)\n",
      "size of whole file is now (716, 16, 7)\n",
      "interval is 81\n",
      "sepsis_record_number is X Sepsis consequetive windows associated with p119463.psv\n",
      "next sepsis_block size is (6, 16, 7)\n",
      "size of data file is now (722, 16, 7)\n",
      "size of y file is now (721,)\n",
      "size of new non sepsis file is (53, 16, 7)\n",
      "size of new y file is (53,)\n",
      "size of whole y file is now (774,)\n",
      "size of whole file is now (775, 16, 7)\n",
      "interval is 82\n",
      "sepsis_record_number is X Sepsis consequetive windows associated with p119749.psv\n",
      "next sepsis_block size is (7, 16, 7)\n",
      "size of data file is now (782, 16, 7)\n",
      "size of y file is now (781,)\n",
      "size of new non sepsis file is (53, 16, 7)\n",
      "size of new y file is (53,)\n",
      "size of whole y file is now (834,)\n",
      "size of whole file is now (835, 16, 7)\n",
      "interval is 83\n",
      "sepsis_record_number is X Sepsis consequetive windows associated with p119910.psv\n",
      "next sepsis_block size is (4, 16, 7)\n",
      "size of data file is now (839, 16, 7)\n",
      "size of y file is now (838,)\n",
      "size of whole file after top line removed is now (838, 16, 7)\n",
      "size of y file is now (838,)\n",
      "total sepsis is 96.0\n",
      "total non sepsis is 742.0\n"
     ]
    },
    {
     "data": {
      "text/plain": [
       "(838, 16, 7)"
      ]
     },
     "execution_count": 210,
     "metadata": {},
     "output_type": "execute_result"
    }
   ],
   "source": [
    "#No_of_non_sepsis_records=5000\n",
    "#next_record=0\n",
    "sepsis_ref_no=0\n",
    "data_file_E_sepsis_non_sepsis=np.zeros((1, size_of_window, number_of_features))\n",
    "y_file_E_sepsis_non_sepsis=[]\n",
    "print('number of non_sepsis_records is '+str(No_of_non_sepsis_records))\n",
    "#num_rand_nos=get_random_numbers_non_sepsis(Number_of_non_sepsis_records)\n",
    "#non_sepsis_random_indices=get_random_numbers_non_sepsis(No_of_non_sepsis_records)\n",
    "print('number of random numbers is '+str(num_rand_nos.shape))\n",
    "#get_non_sepsis_file_as_array(record_num)\n",
    "for interval in Data_list_E:\n",
    "    data_non_sepsis,next_record=get_53_non_sepsis_file_as_array(next_record,non_sepsis_random_indices)\n",
    "    print ('size of new non sepsis file is '+ str(data_non_sepsis.shape))\n",
    "    #create corresponding y_file\n",
    "    next_y_record_non_sepsis=np.zeros(data_non_sepsis.shape[0])\n",
    "    print ('size of new y file is '+ str(next_y_record_non_sepsis.shape))\n",
    "    y_file_E_sepsis_non_sepsis=np.concatenate((y_file_E_sepsis_non_sepsis,next_y_record_non_sepsis))\n",
    "    print ('size of whole y file is now '+ str(y_file_E_sepsis_non_sepsis.shape))\n",
    "    data_file_E_sepsis_non_sepsis=np.vstack((data_file_E_sepsis_non_sepsis,data_non_sepsis))\n",
    "    print ('size of whole file is now '+ str(data_file_E_sepsis_non_sepsis.shape))\n",
    "    #next_record=next_record+10\n",
    "    print('interval is '+str(interval))\n",
    "    sepsis_record_number=file_list_windows.loc[interval,'X file name']\n",
    "    print('sepsis_record_number is '+str(sepsis_record_number))\n",
    "    next_sepsis_block=np.load(path_for_np+sepsis_record_number+'.npy')\n",
    "    print('next sepsis_block size is ' +str(next_sepsis_block.shape))\n",
    "    data_file_E_sepsis_non_sepsis=np.vstack((data_file_E_sepsis_non_sepsis,next_sepsis_block))\n",
    "    next_y_record_sepsis=np.ones(next_sepsis_block.shape[0])\n",
    "    y_file_E_sepsis_non_sepsis=np.concatenate((y_file_E_sepsis_non_sepsis,next_y_record_sepsis))\n",
    "    print ('size of data file is now '+ str(data_file_E_sepsis_non_sepsis.shape))\n",
    "    print ('size of y file is now '+ str(y_file_E_sepsis_non_sepsis.shape))\n",
    "data_file_E_sepsis_non_sepsis= np.delete(data_file_E_sepsis_non_sepsis, 0, 0)\n",
    "print ('size of whole file after top line removed is now '+ str(data_file_E_sepsis_non_sepsis.shape))\n",
    "print ('size of y file is now '+ str(y_file_E_sepsis_non_sepsis.shape))\n",
    "print('total sepsis is '+str(sum(y_file_E_sepsis_non_sepsis)))\n",
    "print('total non sepsis is '+str(len(data_file_E_sepsis_non_sepsis)-sum(y_file_E_sepsis_non_sepsis)))\n",
    "data_file_E_sepsis_non_sepsis.shape"
   ]
  },
  {
   "cell_type": "code",
   "execution_count": 211,
   "id": "5ed7d9ab",
   "metadata": {},
   "outputs": [
    {
     "data": {
      "text/plain": [
       "(838, 7, 16)"
      ]
     },
     "execution_count": 211,
     "metadata": {},
     "output_type": "execute_result"
    }
   ],
   "source": [
    "E_data=data_file_E_sepsis_non_sepsis\n",
    "E_data=E_data.transpose(0,2,1)\n",
    "E_data.shape"
   ]
  },
  {
   "cell_type": "code",
   "execution_count": 212,
   "id": "62dbd156",
   "metadata": {},
   "outputs": [
    {
     "data": {
      "text/plain": [
       "(838,)"
      ]
     },
     "execution_count": 212,
     "metadata": {},
     "output_type": "execute_result"
    }
   ],
   "source": [
    "E_ycol=y_file_E_sepsis_non_sepsis\n",
    "E_ycol.shape"
   ]
  },
  {
   "cell_type": "code",
   "execution_count": 239,
   "id": "05ffe5d6",
   "metadata": {},
   "outputs": [
    {
     "data": {
      "text/plain": [
       "3380"
      ]
     },
     "execution_count": 239,
     "metadata": {},
     "output_type": "execute_result"
    }
   ],
   "source": [
    "next_record"
   ]
  },
  {
   "cell_type": "markdown",
   "id": "f900d5a1",
   "metadata": {},
   "source": [
    "# Save our 5 K validation data sets\n",
    "\n",
    "Create using leave one behind method"
   ]
  },
  {
   "cell_type": "code",
   "execution_count": 240,
   "id": "f57aedf7",
   "metadata": {},
   "outputs": [],
   "source": [
    "filename_set_A='Data set A 1000 records combined 10% non-imputed sepsis and random non_sepsis.npy'\n",
    "np.save(path_for_np+filename_set_A,A_data)\n",
    "y_set_A='y set A 1000 records combined 10% non-imputed sepsis and random non_sepsis.npy'\n",
    "np.save(path_for_np+y_set_A,A_ycol)"
   ]
  },
  {
   "cell_type": "code",
   "execution_count": 241,
   "id": "fb92525a",
   "metadata": {},
   "outputs": [
    {
     "data": {
      "text/plain": [
       "(781, 7, 16)"
      ]
     },
     "execution_count": 241,
     "metadata": {},
     "output_type": "execute_result"
    }
   ],
   "source": [
    "check=np.load(path_for_np+filename_set_A)\n",
    "check.shape"
   ]
  },
  {
   "cell_type": "code",
   "execution_count": 242,
   "id": "119f4a8d",
   "metadata": {},
   "outputs": [
    {
     "data": {
      "text/plain": [
       "(781,)"
      ]
     },
     "execution_count": 242,
     "metadata": {},
     "output_type": "execute_result"
    }
   ],
   "source": [
    "check2=np.load(path_for_np+y_set_A)\n",
    "check2.shape"
   ]
  },
  {
   "cell_type": "code",
   "execution_count": 243,
   "id": "4d3dd3be",
   "metadata": {},
   "outputs": [],
   "source": [
    "filename_set_B='Data set B 1000 records combined 10% non-imputed sepsis and random non_sepsis.npy'\n",
    "np.save(path_for_np+filename_set_B,B_data)\n",
    "y_set_B='y set B 1000 records combined 10% non-imputed sepsis and random non_sepsis.npy'\n",
    "np.save(path_for_np+y_set_B,B_ycol)"
   ]
  },
  {
   "cell_type": "code",
   "execution_count": 244,
   "id": "f6e01969",
   "metadata": {},
   "outputs": [
    {
     "data": {
      "text/plain": [
       "(873, 7, 16)"
      ]
     },
     "execution_count": 244,
     "metadata": {},
     "output_type": "execute_result"
    }
   ],
   "source": [
    "check=np.load(path_for_np+filename_set_B)\n",
    "check.shape"
   ]
  },
  {
   "cell_type": "code",
   "execution_count": 245,
   "id": "babc9f19",
   "metadata": {},
   "outputs": [
    {
     "data": {
      "text/plain": [
       "(873,)"
      ]
     },
     "execution_count": 245,
     "metadata": {},
     "output_type": "execute_result"
    }
   ],
   "source": [
    "check2=np.load(path_for_np+y_set_B)\n",
    "check2.shape"
   ]
  },
  {
   "cell_type": "code",
   "execution_count": 246,
   "id": "ca8ff1bb",
   "metadata": {},
   "outputs": [],
   "source": [
    "filename_set_C='Data set C 1000 records combined 10% non-imputed sepsis and random non_sepsis.npy'\n",
    "np.save(path_for_np+filename_set_C,C_data)\n",
    "y_set_C='y set C 1000 records combined 10% non-imputed sepsis and random non_sepsis.npy'\n",
    "np.save(path_for_np+y_set_C,C_ycol)"
   ]
  },
  {
   "cell_type": "code",
   "execution_count": 247,
   "id": "a819354e",
   "metadata": {},
   "outputs": [
    {
     "data": {
      "text/plain": [
       "(787, 7, 16)"
      ]
     },
     "execution_count": 247,
     "metadata": {},
     "output_type": "execute_result"
    }
   ],
   "source": [
    "check=np.load(path_for_np+filename_set_C)\n",
    "check.shape"
   ]
  },
  {
   "cell_type": "code",
   "execution_count": 248,
   "id": "20e8dfe1",
   "metadata": {},
   "outputs": [
    {
     "data": {
      "text/plain": [
       "(787,)"
      ]
     },
     "execution_count": 248,
     "metadata": {},
     "output_type": "execute_result"
    }
   ],
   "source": [
    "check2=np.load(path_for_np+y_set_C)\n",
    "check2.shape"
   ]
  },
  {
   "cell_type": "code",
   "execution_count": 249,
   "id": "b7c59d2c",
   "metadata": {},
   "outputs": [],
   "source": [
    "filename_set_D='Data set D 1000 records combined 10% non-imputed sepsis and random non_sepsis.npy'\n",
    "np.save(path_for_np+filename_set_D,D_data)\n",
    "y_set_D='y set D 1000 records combined 10% non-imputed sepsis and random non_sepsis.npy'\n",
    "np.save(path_for_np+y_set_D,D_ycol)"
   ]
  },
  {
   "cell_type": "code",
   "execution_count": 250,
   "id": "3a65e5df",
   "metadata": {},
   "outputs": [
    {
     "data": {
      "text/plain": [
       "(622, 7, 16)"
      ]
     },
     "execution_count": 250,
     "metadata": {},
     "output_type": "execute_result"
    }
   ],
   "source": [
    "check=np.load(path_for_np+filename_set_D)\n",
    "check.shape"
   ]
  },
  {
   "cell_type": "code",
   "execution_count": 251,
   "id": "09f04b04",
   "metadata": {},
   "outputs": [
    {
     "data": {
      "text/plain": [
       "(622,)"
      ]
     },
     "execution_count": 251,
     "metadata": {},
     "output_type": "execute_result"
    }
   ],
   "source": [
    "check2=np.load(path_for_np+y_set_D)\n",
    "check2.shape"
   ]
  },
  {
   "cell_type": "code",
   "execution_count": 252,
   "id": "6b919f0d",
   "metadata": {},
   "outputs": [],
   "source": [
    "filename_set_E='Data set E 1000 records combined 10% non-imputed sepsis and random non_sepsis.npy'\n",
    "np.save(path_for_np+filename_set_E,E_data)\n",
    "y_set_E='y set E 1000 records combined 10% non-imputed sepsis and random non_sepsis.npy'\n",
    "np.save(path_for_np+y_set_E,E_ycol)"
   ]
  },
  {
   "cell_type": "code",
   "execution_count": 253,
   "id": "9f128819",
   "metadata": {},
   "outputs": [
    {
     "data": {
      "text/plain": [
       "(838, 7, 16)"
      ]
     },
     "execution_count": 253,
     "metadata": {},
     "output_type": "execute_result"
    }
   ],
   "source": [
    "check=np.load(path_for_np+filename_set_E)\n",
    "check.shape"
   ]
  },
  {
   "cell_type": "code",
   "execution_count": 254,
   "id": "933c6374",
   "metadata": {},
   "outputs": [
    {
     "data": {
      "text/plain": [
       "(838,)"
      ]
     },
     "execution_count": 254,
     "metadata": {},
     "output_type": "execute_result"
    }
   ],
   "source": [
    "check2=np.load(path_for_np+y_set_E)\n",
    "check2.shape"
   ]
  },
  {
   "cell_type": "markdown",
   "id": "9d2b2e16",
   "metadata": {},
   "source": [
    "# Create the 5 validation sets Val 1,2,3,4,5"
   ]
  },
  {
   "cell_type": "code",
   "execution_count": 255,
   "id": "5e2c49f8",
   "metadata": {},
   "outputs": [
    {
     "name": "stdout",
     "output_type": "stream",
     "text": [
      "set 1 train data is (3063, 7, 16)\n",
      "set 1 train y vals is (3063,)\n",
      "set 1 test data is (838, 7, 16)\n",
      "set 1 test y vals is (838,)\n"
     ]
    }
   ],
   "source": [
    "set_1_train_data=np.vstack((A_data,B_data,C_data,D_data))\n",
    "print('set 1 train data is '+ str(set_1_train_data.shape))\n",
    "set_1_train_y=np.concatenate((A_ycol,B_ycol,C_ycol,D_ycol))\n",
    "print('set 1 train y vals is '+ str(set_1_train_y.shape))\n",
    "set_1_test_data=E_data\n",
    "print('set 1 test data is '+ str(set_1_test_data.shape))\n",
    "set_1_test_y=E_ycol\n",
    "print('set 1 test y vals is '+ str(set_1_test_y.shape))"
   ]
  },
  {
   "cell_type": "code",
   "execution_count": 258,
   "id": "9b6d7e85",
   "metadata": {},
   "outputs": [
    {
     "name": "stdout",
     "output_type": "stream",
     "text": [
      "set 2 train data is (3279, 7, 16)\n",
      "set 2 train y vals is (3279,)\n",
      "set 2 test data is (622, 7, 16)\n",
      "set 2 test y vals is (622,)\n"
     ]
    }
   ],
   "source": [
    "#set_2=A+B+C+E\n",
    "set_2_train_data=np.vstack((A_data,B_data,C_data,E_data))\n",
    "print('set 2 train data is '+ str(set_2_train_data.shape))\n",
    "set_2_train_y=np.concatenate((A_ycol,B_ycol,C_ycol,E_ycol))\n",
    "print('set 2 train y vals is '+ str(set_2_train_y.shape))\n",
    "set_2_test_data=D_data\n",
    "print('set 2 test data is '+ str(set_2_test_data.shape))\n",
    "set_2_test_y=D_ycol\n",
    "print('set 2 test y vals is '+ str(set_2_test_y.shape))"
   ]
  },
  {
   "cell_type": "code",
   "execution_count": 260,
   "id": "b86848b6",
   "metadata": {},
   "outputs": [
    {
     "name": "stdout",
     "output_type": "stream",
     "text": [
      "set 3 train data is (3120, 7, 16)\n",
      "set 3 train y vals is (3120,)\n",
      "set 3 test data is (781, 7, 16)\n",
      "set 3 test y vals is (781,)\n"
     ]
    }
   ],
   "source": [
    "#set_3=B+C+D+E\n",
    "set_3_train_data=np.vstack((B_data,C_data,D_data,E_data))\n",
    "print('set 3 train data is '+ str(set_3_train_data.shape))\n",
    "set_3_train_y=np.concatenate((B_ycol,C_ycol,D_ycol,E_ycol))\n",
    "print('set 3 train y vals is '+ str(set_3_train_y.shape))\n",
    "set_3_test_data=A_data\n",
    "print('set 3 test data is '+ str(set_3_test_data.shape))\n",
    "set_3_test_y=A_ycol\n",
    "print('set 3 test y vals is '+ str(set_3_test_y.shape))"
   ]
  },
  {
   "cell_type": "code",
   "execution_count": 261,
   "id": "6fab93fe",
   "metadata": {},
   "outputs": [
    {
     "name": "stdout",
     "output_type": "stream",
     "text": [
      "set 4 train data is (3028, 7, 16)\n",
      "set 4 train y vals is (3028,)\n",
      "set 4 test data is (873, 7, 16)\n",
      "set 4 test y vals is (873,)\n"
     ]
    }
   ],
   "source": [
    "#set_4=A+C+D+E\n",
    "set_4_train_data=np.vstack((A_data,C_data,D_data,E_data))\n",
    "print('set 4 train data is '+ str(set_4_train_data.shape))\n",
    "set_4_train_y=np.concatenate((A_ycol,C_ycol,D_ycol,E_ycol))\n",
    "print('set 4 train y vals is '+ str(set_4_train_y.shape))\n",
    "set_4_test_data=B_data\n",
    "print('set 4 test data is '+ str(set_4_test_data.shape))\n",
    "set_4_test_y=B_ycol\n",
    "print('set 4 test y vals is '+ str(set_4_test_y.shape))"
   ]
  },
  {
   "cell_type": "code",
   "execution_count": 262,
   "id": "4b831e9e",
   "metadata": {},
   "outputs": [
    {
     "name": "stdout",
     "output_type": "stream",
     "text": [
      "set 5 train data is (3114, 7, 16)\n",
      "set 5 train y vals is (3114,)\n",
      "set 5 test data is (787, 7, 16)\n",
      "set 5 test y vals is (787,)\n"
     ]
    }
   ],
   "source": [
    "#set_5=A+B+D+E\n",
    "set_5_train_data=np.vstack((A_data,B_data,D_data,E_data))\n",
    "print('set 5 train data is '+ str(set_5_train_data.shape))\n",
    "set_5_train_y=np.concatenate((A_ycol,B_ycol,D_ycol,E_ycol))\n",
    "print('set 5 train y vals is '+ str(set_5_train_y.shape))\n",
    "set_5_test_data=C_data\n",
    "print('set 5 test data is '+ str(set_5_test_data.shape))\n",
    "set_5_test_y=C_ycol\n",
    "print('set 5 test y vals is '+ str(set_5_test_y.shape))"
   ]
  },
  {
   "cell_type": "markdown",
   "id": "86af8020",
   "metadata": {},
   "source": [
    "# Save the K N validation files nos 1,2,3,4,5"
   ]
  },
  {
   "cell_type": "code",
   "execution_count": 263,
   "id": "f4701231",
   "metadata": {},
   "outputs": [],
   "source": [
    "path_for_np='/Users/davidfueggled/Documents/win16 train test datasets/'\n",
    "filename_data_1_train='no 1 data set for training for K validation.npy'\n",
    "np.save(path_for_np+filename_data_1_train,set_1_train_data)\n",
    "filename_y_set_1_train='no 1 y set for training data for K validation.npy'\n",
    "np.save(path_for_np+filename_y_set_1_train,set_1_train_y)\n",
    "filename_data_1_test='no 1 data set for testing for K validation.npy'\n",
    "np.save(path_for_np+filename_data_1_test,set_1_test_data)\n",
    "filename_y_set_1_test='no 1 y set for testing for K validation.npy'\n",
    "np.save(path_for_np+filename_y_set_1_test,set_1_test_y)\n",
    "\n",
    "filename_data_2_train='no 2 data set for training for K validation.npy'\n",
    "np.save(path_for_np+filename_data_2_train,set_2_train_data)\n",
    "filename_y_set_2_train='no 2 y set for training data for K validation.npy'\n",
    "np.save(path_for_np+filename_y_set_2_train,set_2_train_y)\n",
    "filename_data_2_test='no 2 data set for testing for K validation.npy'\n",
    "np.save(path_for_np+filename_data_2_test,set_2_test_data)\n",
    "filename_y_set_2_test='no 2 y set for testing for K validation.npy'\n",
    "np.save(path_for_np+filename_y_set_2_test,set_2_test_y)\n",
    "\n",
    "filename_data_3_train='no 3 data set for training for K validation.npy'\n",
    "np.save(path_for_np+filename_data_3_train,set_3_train_data)\n",
    "filename_y_set_3_train='no 3 y set for training data for K validation.npy'\n",
    "np.save(path_for_np+filename_y_set_3_train,set_3_train_y)\n",
    "filename_data_3_test='no 3 data set for testing for K validation.npy'\n",
    "np.save(path_for_np+filename_data_3_test,set_3_test_data)\n",
    "filename_y_set_3_test='no 3 y set for testing for K validation.npy'\n",
    "np.save(path_for_np+filename_y_set_3_test,set_3_test_y)\n",
    "\n",
    "filename_data_4_train='no 4 data set for training for K validation.npy'\n",
    "np.save(path_for_np+filename_data_4_train,set_4_train_data)\n",
    "filename_y_set_4_train='no 4 y set for training data for K validation.npy'\n",
    "np.save(path_for_np+filename_y_set_4_train,set_4_train_y)\n",
    "filename_data_4_test='no 4 data set for testing for K validation.npy'\n",
    "np.save(path_for_np+filename_data_4_test,set_4_test_data)\n",
    "filename_y_set_4_test='no 4 y set for testing for K validation.npy'\n",
    "np.save(path_for_np+filename_y_set_4_test,set_4_test_y)\n",
    "\n",
    "filename_data_5_train='no 5 data set for training for K validation.npy'\n",
    "np.save(path_for_np+filename_data_5_train,set_5_train_data)\n",
    "filename_y_set_5_train='no 5 y set for training data for K validation.npy'\n",
    "np.save(path_for_np+filename_y_set_5_train,set_5_train_y)\n",
    "filename_data_5_test='no 5 data set for testing for K validation.npy'\n",
    "np.save(path_for_np+filename_data_5_test,set_5_test_data)\n",
    "filename_y_set_5_test='no 5 y set for testing for K validation.npy'\n",
    "np.save(path_for_np+filename_y_set_5_test,set_5_test_y)"
   ]
  },
  {
   "cell_type": "markdown",
   "id": "69e04e7c",
   "metadata": {},
   "source": [
    "# Creating Balanced training sets for Validation  A, B, C, D, E"
   ]
  },
  {
   "cell_type": "markdown",
   "id": "defb2b2a",
   "metadata": {},
   "source": [
    "# creating 'Data set A 1000 records combined 50% non-imputed sepsis and random non_sepsis.npy'"
   ]
  },
  {
   "cell_type": "code",
   "execution_count": 332,
   "id": "81e1e57d",
   "metadata": {
    "scrolled": false
   },
   "outputs": [
    {
     "name": "stdout",
     "output_type": "stream",
     "text": [
      "number of non_sepsis_records is 5000\n",
      "size of dataset is  9103\n",
      "size of request is  5000\n",
      "length of non sepsis random_indices is (5000,)\n",
      "number of random numbers is (5000,)\n",
      "size of new non sepsis file is (7, 16, 7)\n",
      "size of new y file is (7,)\n",
      "size of whole y file is now (7,)\n",
      "size of whole file is now (8, 16, 7)\n",
      "interval is 19\n",
      "sepsis_record_number is X Sepsis consequetive windows associated with p100312.psv\n",
      "next sepsis_block size is (8, 16, 7)\n",
      "size of data file is now (16, 16, 7)\n",
      "size of y file is now (15,)\n",
      "size of new non sepsis file is (7, 16, 7)\n",
      "size of new y file is (7,)\n",
      "size of whole y file is now (22,)\n",
      "size of whole file is now (23, 16, 7)\n",
      "interval is 20\n",
      "sepsis_record_number is X Sepsis consequetive windows associated with p100504.psv\n",
      "next sepsis_block size is (6, 16, 7)\n",
      "size of data file is now (29, 16, 7)\n",
      "size of y file is now (28,)\n",
      "size of new non sepsis file is (7, 16, 7)\n",
      "size of new y file is (7,)\n",
      "size of whole y file is now (35,)\n",
      "size of whole file is now (36, 16, 7)\n",
      "interval is 21\n",
      "sepsis_record_number is X Sepsis consequetive windows associated with p100673.psv\n",
      "next sepsis_block size is (16, 16, 7)\n",
      "size of data file is now (52, 16, 7)\n",
      "size of y file is now (51,)\n",
      "size of new non sepsis file is (7, 16, 7)\n",
      "size of new y file is (7,)\n",
      "size of whole y file is now (58,)\n",
      "size of whole file is now (59, 16, 7)\n",
      "interval is 22\n",
      "sepsis_record_number is X Sepsis consequetive windows associated with p100675.psv\n",
      "next sepsis_block size is (3, 16, 7)\n",
      "size of data file is now (62, 16, 7)\n",
      "size of y file is now (61,)\n",
      "size of new non sepsis file is (7, 16, 7)\n",
      "size of new y file is (7,)\n",
      "size of whole y file is now (68,)\n",
      "size of whole file is now (69, 16, 7)\n",
      "interval is 23\n",
      "sepsis_record_number is X Sepsis consequetive windows associated with p100705.psv\n",
      "next sepsis_block size is (1, 16, 7)\n",
      "size of data file is now (70, 16, 7)\n",
      "size of y file is now (69,)\n",
      "size of new non sepsis file is (7, 16, 7)\n",
      "size of new y file is (7,)\n",
      "size of whole y file is now (76,)\n",
      "size of whole file is now (77, 16, 7)\n",
      "interval is 24\n",
      "sepsis_record_number is X Sepsis consequetive windows associated with p100838.psv\n",
      "next sepsis_block size is (6, 16, 7)\n",
      "size of data file is now (83, 16, 7)\n",
      "size of y file is now (82,)\n",
      "size of new non sepsis file is (7, 16, 7)\n",
      "size of new y file is (7,)\n",
      "size of whole y file is now (89,)\n",
      "size of whole file is now (90, 16, 7)\n",
      "interval is 25\n",
      "sepsis_record_number is X Sepsis consequetive windows associated with p101157.psv\n",
      "next sepsis_block size is (5, 16, 7)\n",
      "size of data file is now (95, 16, 7)\n",
      "size of y file is now (94,)\n",
      "size of new non sepsis file is (7, 16, 7)\n",
      "size of new y file is (7,)\n",
      "size of whole y file is now (101,)\n",
      "size of whole file is now (102, 16, 7)\n",
      "interval is 26\n",
      "sepsis_record_number is X Sepsis consequetive windows associated with p101561.psv\n",
      "next sepsis_block size is (8, 16, 7)\n",
      "size of data file is now (110, 16, 7)\n",
      "size of y file is now (109,)\n",
      "size of new non sepsis file is (7, 16, 7)\n",
      "size of new y file is (7,)\n",
      "size of whole y file is now (116,)\n",
      "size of whole file is now (117, 16, 7)\n",
      "interval is 27\n",
      "sepsis_record_number is X Sepsis consequetive windows associated with p101618.psv\n",
      "next sepsis_block size is (4, 16, 7)\n",
      "size of data file is now (121, 16, 7)\n",
      "size of y file is now (120,)\n",
      "size of new non sepsis file is (7, 16, 7)\n",
      "size of new y file is (7,)\n",
      "size of whole y file is now (127,)\n",
      "size of whole file is now (128, 16, 7)\n",
      "interval is 28\n",
      "sepsis_record_number is X Sepsis consequetive windows associated with p101880.psv\n",
      "next sepsis_block size is (11, 16, 7)\n",
      "size of data file is now (139, 16, 7)\n",
      "size of y file is now (138,)\n",
      "size of new non sepsis file is (7, 16, 7)\n",
      "size of new y file is (7,)\n",
      "size of whole y file is now (145,)\n",
      "size of whole file is now (146, 16, 7)\n",
      "interval is 29\n",
      "sepsis_record_number is X Sepsis consequetive windows associated with p102128.psv\n",
      "next sepsis_block size is (16, 16, 7)\n",
      "size of data file is now (162, 16, 7)\n",
      "size of y file is now (161,)\n",
      "size of new non sepsis file is (7, 16, 7)\n",
      "size of new y file is (7,)\n",
      "size of whole y file is now (168,)\n",
      "size of whole file is now (169, 16, 7)\n",
      "interval is 30\n",
      "sepsis_record_number is X Sepsis consequetive windows associated with p102173.psv\n",
      "next sepsis_block size is (6, 16, 7)\n",
      "size of data file is now (175, 16, 7)\n",
      "size of y file is now (174,)\n",
      "size of new non sepsis file is (7, 16, 7)\n",
      "size of new y file is (7,)\n",
      "size of whole y file is now (181,)\n",
      "size of whole file is now (182, 16, 7)\n",
      "interval is 31\n",
      "sepsis_record_number is X Sepsis consequetive windows associated with p102784.psv\n",
      "next sepsis_block size is (2, 16, 7)\n",
      "size of data file is now (184, 16, 7)\n",
      "size of y file is now (183,)\n",
      "size of whole file after top line removed is now (183, 16, 7)\n",
      "size of y file is now (183,)\n",
      "total sepsis is 92.0\n",
      "total non sepsis is 91.0\n"
     ]
    },
    {
     "data": {
      "text/plain": [
       "(183, 16, 7)"
      ]
     },
     "execution_count": 332,
     "metadata": {},
     "output_type": "execute_result"
    }
   ],
   "source": [
    "No_of_non_sepsis_records=5000\n",
    "next_record=0\n",
    "sepsis_ref_no=0\n",
    "data_file_A_sepsis_non_sepsis=np.zeros((1, size_of_window, number_of_features))\n",
    "y_file_A_sepsis_non_sepsis=[]\n",
    "print('number of non_sepsis_records is '+str(No_of_non_sepsis_records))\n",
    "#num_rand_nos=get_random_numbers_non_sepsis(Number_of_non_sepsis_records)\n",
    "non_sepsis_random_indices=get_random_numbers_non_sepsis(No_of_non_sepsis_records)\n",
    "print('number of random numbers is '+str(num_rand_nos.shape))\n",
    "#get_non_sepsis_file_as_array(record_num)\n",
    "for interval in Data_list_A:\n",
    "    data_non_sepsis,next_record=get_7_non_sepsis_file_as_array(next_record,non_sepsis_random_indices)\n",
    "    print ('size of new non sepsis file is '+ str(data_non_sepsis.shape))\n",
    "    #create corresponding y_file\n",
    "    next_y_record_non_sepsis=np.zeros(data_non_sepsis.shape[0])\n",
    "    print ('size of new y file is '+ str(next_y_record_non_sepsis.shape))\n",
    "    y_file_A_sepsis_non_sepsis=np.concatenate((y_file_A_sepsis_non_sepsis,next_y_record_non_sepsis))\n",
    "    print ('size of whole y file is now '+ str(y_file_A_sepsis_non_sepsis.shape))\n",
    "    data_file_A_sepsis_non_sepsis=np.vstack((data_file_A_sepsis_non_sepsis,data_non_sepsis))\n",
    "    print ('size of whole file is now '+ str(data_file_A_sepsis_non_sepsis.shape))\n",
    "    #next_record=next_record+10\n",
    "    print('interval is '+str(interval))\n",
    "    sepsis_record_number=file_list_windows.loc[interval,'X file name']\n",
    "    print('sepsis_record_number is '+str(sepsis_record_number))\n",
    "    next_sepsis_block=np.load(path_for_np+sepsis_record_number+'.npy')\n",
    "    print('next sepsis_block size is ' +str(next_sepsis_block.shape))\n",
    "    data_file_A_sepsis_non_sepsis=np.vstack((data_file_A_sepsis_non_sepsis,next_sepsis_block))\n",
    "    next_y_record_sepsis=np.ones(next_sepsis_block.shape[0])\n",
    "    y_file_A_sepsis_non_sepsis=np.concatenate((y_file_A_sepsis_non_sepsis,next_y_record_sepsis))\n",
    "    print ('size of data file is now '+ str(data_file_A_sepsis_non_sepsis.shape))\n",
    "    print ('size of y file is now '+ str(y_file_A_sepsis_non_sepsis.shape))\n",
    "data_file_A_sepsis_non_sepsis= np.delete(data_file_A_sepsis_non_sepsis, 0, 0)\n",
    "print ('size of whole file after top line removed is now '+ str(data_file_A_sepsis_non_sepsis.shape))\n",
    "print ('size of y file is now '+ str(y_file_A_sepsis_non_sepsis.shape))\n",
    "print('total sepsis is '+str(sum(y_file_A_sepsis_non_sepsis)))\n",
    "print('total non sepsis is '+str(len(data_file_A_sepsis_non_sepsis)-sum(y_file_A_sepsis_non_sepsis)))\n",
    "#print('percentage of sepsis is '+str())\n",
    "data_file_A_sepsis_non_sepsis.shape\n",
    "\n",
    "#save\n",
    "#filename_set_A='Data set A 1000 records combined 10% non-imputed sepsis and random non_sepsis.npy'\n",
    "#np.save(path_for_np+file_name_set_A,data_file_A_sepsis_non_sepsis)\n",
    "\n",
    "#add BCDE"
   ]
  },
  {
   "cell_type": "code",
   "execution_count": 333,
   "id": "769e6b64",
   "metadata": {},
   "outputs": [
    {
     "data": {
      "text/plain": [
       "(183, 7, 16)"
      ]
     },
     "execution_count": 333,
     "metadata": {},
     "output_type": "execute_result"
    }
   ],
   "source": [
    "A_data_50perc=data_file_A_sepsis_non_sepsis\n",
    "A_data_50perc=A_data_50perc.transpose(0,2,1)\n",
    "A_data_50perc.shape"
   ]
  },
  {
   "cell_type": "code",
   "execution_count": 334,
   "id": "823d3c85",
   "metadata": {},
   "outputs": [
    {
     "data": {
      "text/plain": [
       "(183,)"
      ]
     },
     "execution_count": 334,
     "metadata": {},
     "output_type": "execute_result"
    }
   ],
   "source": [
    "A_ycol_50perc=y_file_A_sepsis_non_sepsis\n",
    "A_ycol_50perc.shape"
   ]
  },
  {
   "cell_type": "code",
   "execution_count": 335,
   "id": "e33411bc",
   "metadata": {},
   "outputs": [
    {
     "data": {
      "text/plain": [
       "676"
      ]
     },
     "execution_count": 335,
     "metadata": {},
     "output_type": "execute_result"
    }
   ],
   "source": [
    "next_record"
   ]
  },
  {
   "cell_type": "markdown",
   "id": "3499fc23",
   "metadata": {},
   "source": [
    "# creating 'Data set B 1000 records combined 50% non-imputed sepsis and random non_sepsis.npy'"
   ]
  },
  {
   "cell_type": "code",
   "execution_count": 336,
   "id": "d4925d63",
   "metadata": {},
   "outputs": [
    {
     "name": "stdout",
     "output_type": "stream",
     "text": [
      "number of non_sepsis_records is 5000\n",
      "number of random numbers is (5000,)\n",
      "size of new non sepsis file is (7, 16, 7)\n",
      "size of new y file is (7,)\n",
      "size of whole y file is now (7,)\n",
      "size of whole file is now (8, 16, 7)\n",
      "interval is 32\n",
      "sepsis_record_number is X Sepsis consequetive windows associated with p102937.psv\n",
      "next sepsis_block size is (5, 16, 7)\n",
      "size of data file is now (13, 16, 7)\n",
      "size of y file is now (12,)\n",
      "size of new non sepsis file is (7, 16, 7)\n",
      "size of new y file is (7,)\n",
      "size of whole y file is now (19,)\n",
      "size of whole file is now (20, 16, 7)\n",
      "interval is 33\n",
      "sepsis_record_number is X Sepsis consequetive windows associated with p103073.psv\n",
      "next sepsis_block size is (3, 16, 7)\n",
      "size of data file is now (23, 16, 7)\n",
      "size of y file is now (22,)\n",
      "size of new non sepsis file is (7, 16, 7)\n",
      "size of new y file is (7,)\n",
      "size of whole y file is now (29,)\n",
      "size of whole file is now (30, 16, 7)\n",
      "interval is 34\n",
      "sepsis_record_number is X Sepsis consequetive windows associated with p103365.psv\n",
      "next sepsis_block size is (3, 16, 7)\n",
      "size of data file is now (33, 16, 7)\n",
      "size of y file is now (32,)\n",
      "size of new non sepsis file is (7, 16, 7)\n",
      "size of new y file is (7,)\n",
      "size of whole y file is now (39,)\n",
      "size of whole file is now (40, 16, 7)\n",
      "interval is 35\n",
      "sepsis_record_number is X Sepsis consequetive windows associated with p103568.psv\n",
      "next sepsis_block size is (5, 16, 7)\n",
      "size of data file is now (45, 16, 7)\n",
      "size of y file is now (44,)\n",
      "size of new non sepsis file is (7, 16, 7)\n",
      "size of new y file is (7,)\n",
      "size of whole y file is now (51,)\n",
      "size of whole file is now (52, 16, 7)\n",
      "interval is 36\n",
      "sepsis_record_number is X Sepsis consequetive windows associated with p104288.psv\n",
      "next sepsis_block size is (10, 16, 7)\n",
      "size of data file is now (62, 16, 7)\n",
      "size of y file is now (61,)\n",
      "size of new non sepsis file is (7, 16, 7)\n",
      "size of new y file is (7,)\n",
      "size of whole y file is now (68,)\n",
      "size of whole file is now (69, 16, 7)\n",
      "interval is 37\n",
      "sepsis_record_number is X Sepsis consequetive windows associated with p104474.psv\n",
      "next sepsis_block size is (1, 16, 7)\n",
      "size of data file is now (70, 16, 7)\n",
      "size of y file is now (69,)\n",
      "size of new non sepsis file is (7, 16, 7)\n",
      "size of new y file is (7,)\n",
      "size of whole y file is now (76,)\n",
      "size of whole file is now (77, 16, 7)\n",
      "interval is 38\n",
      "sepsis_record_number is X Sepsis consequetive windows associated with p105423.psv\n",
      "next sepsis_block size is (2, 16, 7)\n",
      "size of data file is now (79, 16, 7)\n",
      "size of y file is now (78,)\n",
      "size of new non sepsis file is (7, 16, 7)\n",
      "size of new y file is (7,)\n",
      "size of whole y file is now (85,)\n",
      "size of whole file is now (86, 16, 7)\n",
      "interval is 39\n",
      "sepsis_record_number is X Sepsis consequetive windows associated with p105640.psv\n",
      "next sepsis_block size is (10, 16, 7)\n",
      "size of data file is now (96, 16, 7)\n",
      "size of y file is now (95,)\n",
      "size of new non sepsis file is (7, 16, 7)\n",
      "size of new y file is (7,)\n",
      "size of whole y file is now (102,)\n",
      "size of whole file is now (103, 16, 7)\n",
      "interval is 40\n",
      "sepsis_record_number is X Sepsis consequetive windows associated with p105788.psv\n",
      "next sepsis_block size is (6, 16, 7)\n",
      "size of data file is now (109, 16, 7)\n",
      "size of y file is now (108,)\n",
      "size of new non sepsis file is (7, 16, 7)\n",
      "size of new y file is (7,)\n",
      "size of whole y file is now (115,)\n",
      "size of whole file is now (116, 16, 7)\n",
      "interval is 41\n",
      "sepsis_record_number is X Sepsis consequetive windows associated with p105862.psv\n",
      "next sepsis_block size is (10, 16, 7)\n",
      "size of data file is now (126, 16, 7)\n",
      "size of y file is now (125,)\n",
      "size of new non sepsis file is (7, 16, 7)\n",
      "size of new y file is (7,)\n",
      "size of whole y file is now (132,)\n",
      "size of whole file is now (133, 16, 7)\n",
      "interval is 42\n",
      "sepsis_record_number is X Sepsis consequetive windows associated with p106868.psv\n",
      "next sepsis_block size is (1, 16, 7)\n",
      "size of data file is now (134, 16, 7)\n",
      "size of y file is now (133,)\n",
      "size of new non sepsis file is (7, 16, 7)\n",
      "size of new y file is (7,)\n",
      "size of whole y file is now (140,)\n",
      "size of whole file is now (141, 16, 7)\n",
      "interval is 43\n",
      "sepsis_record_number is X Sepsis consequetive windows associated with p106900.psv\n",
      "next sepsis_block size is (8, 16, 7)\n",
      "size of data file is now (149, 16, 7)\n",
      "size of y file is now (148,)\n",
      "size of new non sepsis file is (7, 16, 7)\n",
      "size of new y file is (7,)\n",
      "size of whole y file is now (155,)\n",
      "size of whole file is now (156, 16, 7)\n",
      "interval is 44\n",
      "sepsis_record_number is X Sepsis consequetive windows associated with p107111.psv\n",
      "next sepsis_block size is (8, 16, 7)\n",
      "size of data file is now (164, 16, 7)\n",
      "size of y file is now (163,)\n",
      "size of new non sepsis file is (7, 16, 7)\n",
      "size of new y file is (7,)\n",
      "size of whole y file is now (170,)\n",
      "size of whole file is now (171, 16, 7)\n",
      "interval is 45\n",
      "sepsis_record_number is X Sepsis consequetive windows associated with p107267.psv\n",
      "next sepsis_block size is (4, 16, 7)\n",
      "size of data file is now (175, 16, 7)\n",
      "size of y file is now (174,)\n",
      "size of new non sepsis file is (7, 16, 7)\n",
      "size of new y file is (7,)\n",
      "size of whole y file is now (181,)\n",
      "size of whole file is now (182, 16, 7)\n",
      "interval is 46\n",
      "sepsis_record_number is X Sepsis consequetive windows associated with p107283.psv\n",
      "next sepsis_block size is (2, 16, 7)\n",
      "size of data file is now (184, 16, 7)\n",
      "size of y file is now (183,)\n",
      "size of whole file after top line removed is now (183, 16, 7)\n",
      "size of y file is now (183,)\n",
      "total sepsis is 78.0\n",
      "total non sepsis is 105.0\n"
     ]
    },
    {
     "data": {
      "text/plain": [
       "(183, 16, 7)"
      ]
     },
     "execution_count": 336,
     "metadata": {},
     "output_type": "execute_result"
    }
   ],
   "source": [
    "#No_of_non_sepsis_records=5000\n",
    "#next_record=0\n",
    "sepsis_ref_no=0\n",
    "data_file_B_sepsis_non_sepsis=np.zeros((1, size_of_window, number_of_features))\n",
    "y_file_B_sepsis_non_sepsis=[]\n",
    "print('number of non_sepsis_records is '+str(No_of_non_sepsis_records))\n",
    "#num_rand_nos=get_random_numbers_non_sepsis(Number_of_non_sepsis_records)\n",
    "#non_sepsis_random_indices=get_random_numbers_non_sepsis(No_of_non_sepsis_records)\n",
    "print('number of random numbers is '+str(num_rand_nos.shape))\n",
    "#get_non_sepsis_file_as_array(record_num)\n",
    "for interval in Data_list_B:\n",
    "    data_non_sepsis,next_record=get_7_non_sepsis_file_as_array(next_record,non_sepsis_random_indices)\n",
    "    print ('size of new non sepsis file is '+ str(data_non_sepsis.shape))\n",
    "    #create corresponding y_file\n",
    "    next_y_record_non_sepsis=np.zeros(data_non_sepsis.shape[0])\n",
    "    print ('size of new y file is '+ str(next_y_record_non_sepsis.shape))\n",
    "    y_file_B_sepsis_non_sepsis=np.concatenate((y_file_B_sepsis_non_sepsis,next_y_record_non_sepsis))\n",
    "    print ('size of whole y file is now '+ str(y_file_B_sepsis_non_sepsis.shape))\n",
    "    data_file_B_sepsis_non_sepsis=np.vstack((data_file_B_sepsis_non_sepsis,data_non_sepsis))\n",
    "    print ('size of whole file is now '+ str(data_file_B_sepsis_non_sepsis.shape))\n",
    "    #next_record=next_record+10\n",
    "    print('interval is '+str(interval))\n",
    "    sepsis_record_number=file_list_windows.loc[interval,'X file name']\n",
    "    print('sepsis_record_number is '+str(sepsis_record_number))\n",
    "    next_sepsis_block=np.load(path_for_np+sepsis_record_number+'.npy')\n",
    "    print('next sepsis_block size is ' +str(next_sepsis_block.shape))\n",
    "    data_file_B_sepsis_non_sepsis=np.vstack((data_file_B_sepsis_non_sepsis,next_sepsis_block))\n",
    "    next_y_record_sepsis=np.ones(next_sepsis_block.shape[0])\n",
    "    y_file_B_sepsis_non_sepsis=np.concatenate((y_file_B_sepsis_non_sepsis,next_y_record_sepsis))\n",
    "    print ('size of data file is now '+ str(data_file_B_sepsis_non_sepsis.shape))\n",
    "    print ('size of y file is now '+ str(y_file_B_sepsis_non_sepsis.shape))\n",
    "data_file_B_sepsis_non_sepsis= np.delete(data_file_B_sepsis_non_sepsis, 0, 0)\n",
    "print ('size of whole file after top line removed is now '+ str(data_file_B_sepsis_non_sepsis.shape))\n",
    "print ('size of y file is now '+ str(y_file_B_sepsis_non_sepsis.shape))\n",
    "print('total sepsis is '+str(sum(y_file_B_sepsis_non_sepsis)))\n",
    "print('total non sepsis is '+str(len(data_file_B_sepsis_non_sepsis)-sum(y_file_B_sepsis_non_sepsis)))\n",
    "data_file_B_sepsis_non_sepsis.shape\n",
    "\n"
   ]
  },
  {
   "cell_type": "code",
   "execution_count": 337,
   "id": "55f10e3f",
   "metadata": {},
   "outputs": [
    {
     "data": {
      "text/plain": [
       "(183, 7, 16)"
      ]
     },
     "execution_count": 337,
     "metadata": {},
     "output_type": "execute_result"
    }
   ],
   "source": [
    "B_data_50perc=data_file_B_sepsis_non_sepsis\n",
    "B_data_50perc=B_data_50perc.transpose(0,2,1)\n",
    "B_data_50perc.shape"
   ]
  },
  {
   "cell_type": "code",
   "execution_count": 360,
   "id": "7880e187",
   "metadata": {},
   "outputs": [
    {
     "data": {
      "text/plain": [
       "(183,)"
      ]
     },
     "execution_count": 360,
     "metadata": {},
     "output_type": "execute_result"
    }
   ],
   "source": [
    "B_ycol_50perc=y_file_B_sepsis_non_sepsis\n",
    "B_ycol_50perc.shape"
   ]
  },
  {
   "cell_type": "code",
   "execution_count": 339,
   "id": "0a303d1a",
   "metadata": {},
   "outputs": [
    {
     "data": {
      "text/plain": [
       "1456"
      ]
     },
     "execution_count": 339,
     "metadata": {},
     "output_type": "execute_result"
    }
   ],
   "source": [
    "next_record"
   ]
  },
  {
   "cell_type": "markdown",
   "id": "d90deff5",
   "metadata": {},
   "source": [
    "# creating 'Data set C 1000 records combined 50% non-imputed sepsis and random non_sepsis.npy'"
   ]
  },
  {
   "cell_type": "code",
   "execution_count": 340,
   "id": "f9cfec74",
   "metadata": {},
   "outputs": [
    {
     "name": "stdout",
     "output_type": "stream",
     "text": [
      "number of non_sepsis_records is 5000\n",
      "number of random numbers is (5000,)\n",
      "size of new non sepsis file is (7, 16, 7)\n",
      "size of new y file is (7,)\n",
      "size of whole y file is now (7,)\n",
      "size of whole file is now (8, 16, 7)\n",
      "interval is 47\n",
      "sepsis_record_number is X Sepsis consequetive windows associated with p107754.psv\n",
      "next sepsis_block size is (10, 16, 7)\n",
      "size of data file is now (18, 16, 7)\n",
      "size of y file is now (17,)\n",
      "size of new non sepsis file is (7, 16, 7)\n",
      "size of new y file is (7,)\n",
      "size of whole y file is now (24,)\n",
      "size of whole file is now (25, 16, 7)\n",
      "interval is 48\n",
      "sepsis_record_number is X Sepsis consequetive windows associated with p107830.psv\n",
      "next sepsis_block size is (16, 16, 7)\n",
      "size of data file is now (41, 16, 7)\n",
      "size of y file is now (40,)\n",
      "size of new non sepsis file is (7, 16, 7)\n",
      "size of new y file is (7,)\n",
      "size of whole y file is now (47,)\n",
      "size of whole file is now (48, 16, 7)\n",
      "interval is 49\n",
      "sepsis_record_number is X Sepsis consequetive windows associated with p107979.psv\n",
      "next sepsis_block size is (3, 16, 7)\n",
      "size of data file is now (51, 16, 7)\n",
      "size of y file is now (50,)\n",
      "size of new non sepsis file is (7, 16, 7)\n",
      "size of new y file is (7,)\n",
      "size of whole y file is now (57,)\n",
      "size of whole file is now (58, 16, 7)\n",
      "interval is 50\n",
      "sepsis_record_number is X Sepsis consequetive windows associated with p108086.psv\n",
      "next sepsis_block size is (2, 16, 7)\n",
      "size of data file is now (60, 16, 7)\n",
      "size of y file is now (59,)\n",
      "size of new non sepsis file is (7, 16, 7)\n",
      "size of new y file is (7,)\n",
      "size of whole y file is now (66,)\n",
      "size of whole file is now (67, 16, 7)\n",
      "interval is 51\n",
      "sepsis_record_number is X Sepsis consequetive windows associated with p108163.psv\n",
      "next sepsis_block size is (16, 16, 7)\n",
      "size of data file is now (83, 16, 7)\n",
      "size of y file is now (82,)\n",
      "size of new non sepsis file is (7, 16, 7)\n",
      "size of new y file is (7,)\n",
      "size of whole y file is now (89,)\n",
      "size of whole file is now (90, 16, 7)\n",
      "interval is 52\n",
      "sepsis_record_number is X Sepsis consequetive windows associated with p108381.psv\n",
      "next sepsis_block size is (15, 16, 7)\n",
      "size of data file is now (105, 16, 7)\n",
      "size of y file is now (104,)\n",
      "size of new non sepsis file is (7, 16, 7)\n",
      "size of new y file is (7,)\n",
      "size of whole y file is now (111,)\n",
      "size of whole file is now (112, 16, 7)\n",
      "interval is 53\n",
      "sepsis_record_number is X Sepsis consequetive windows associated with p108717.psv\n",
      "next sepsis_block size is (8, 16, 7)\n",
      "size of data file is now (120, 16, 7)\n",
      "size of y file is now (119,)\n",
      "size of new non sepsis file is (7, 16, 7)\n",
      "size of new y file is (7,)\n",
      "size of whole y file is now (126,)\n",
      "size of whole file is now (127, 16, 7)\n",
      "interval is 54\n",
      "sepsis_record_number is X Sepsis consequetive windows associated with p109218.psv\n",
      "next sepsis_block size is (5, 16, 7)\n",
      "size of data file is now (132, 16, 7)\n",
      "size of y file is now (131,)\n",
      "size of new non sepsis file is (7, 16, 7)\n",
      "size of new y file is (7,)\n",
      "size of whole y file is now (138,)\n",
      "size of whole file is now (139, 16, 7)\n",
      "interval is 55\n",
      "sepsis_record_number is X Sepsis consequetive windows associated with p109338.psv\n",
      "next sepsis_block size is (6, 16, 7)\n",
      "size of data file is now (145, 16, 7)\n",
      "size of y file is now (144,)\n",
      "size of new non sepsis file is (7, 16, 7)\n",
      "size of new y file is (7,)\n",
      "size of whole y file is now (151,)\n",
      "size of whole file is now (152, 16, 7)\n",
      "interval is 56\n",
      "sepsis_record_number is X Sepsis consequetive windows associated with p110600.psv\n",
      "next sepsis_block size is (3, 16, 7)\n",
      "size of data file is now (155, 16, 7)\n",
      "size of y file is now (154,)\n",
      "size of new non sepsis file is (7, 16, 7)\n",
      "size of new y file is (7,)\n",
      "size of whole y file is now (161,)\n",
      "size of whole file is now (162, 16, 7)\n",
      "interval is 57\n",
      "sepsis_record_number is X Sepsis consequetive windows associated with p111054.psv\n",
      "next sepsis_block size is (6, 16, 7)\n",
      "size of data file is now (168, 16, 7)\n",
      "size of y file is now (167,)\n",
      "size of new non sepsis file is (7, 16, 7)\n",
      "size of new y file is (7,)\n",
      "size of whole y file is now (174,)\n",
      "size of whole file is now (175, 16, 7)\n",
      "interval is 58\n",
      "sepsis_record_number is X Sepsis consequetive windows associated with p111537.psv\n",
      "next sepsis_block size is (5, 16, 7)\n",
      "size of data file is now (180, 16, 7)\n",
      "size of y file is now (179,)\n",
      "size of new non sepsis file is (7, 16, 7)\n",
      "size of new y file is (7,)\n",
      "size of whole y file is now (186,)\n",
      "size of whole file is now (187, 16, 7)\n",
      "interval is 59\n",
      "sepsis_record_number is X Sepsis consequetive windows associated with p112097.psv\n",
      "next sepsis_block size is (3, 16, 7)\n",
      "size of data file is now (190, 16, 7)\n",
      "size of y file is now (189,)\n",
      "size of whole file after top line removed is now (189, 16, 7)\n",
      "size of y file is now (189,)\n",
      "total sepsis is 98.0\n",
      "total non sepsis is 91.0\n"
     ]
    },
    {
     "data": {
      "text/plain": [
       "(189, 16, 7)"
      ]
     },
     "execution_count": 340,
     "metadata": {},
     "output_type": "execute_result"
    }
   ],
   "source": [
    "#No_of_non_sepsis_records=5000\n",
    "#next_record=0\n",
    "sepsis_ref_no=0\n",
    "data_file_C_sepsis_non_sepsis=np.zeros((1, size_of_window, number_of_features))\n",
    "y_file_C_sepsis_non_sepsis=[]\n",
    "print('number of non_sepsis_records is '+str(No_of_non_sepsis_records))\n",
    "#num_rand_nos=get_random_numbers_non_sepsis(Number_of_non_sepsis_records)\n",
    "#non_sepsis_random_indices=get_random_numbers_non_sepsis(No_of_non_sepsis_records)\n",
    "print('number of random numbers is '+str(num_rand_nos.shape))\n",
    "#get_non_sepsis_file_as_array(record_num)\n",
    "for interval in Data_list_C:\n",
    "    data_non_sepsis,next_record=get_7_non_sepsis_file_as_array(next_record,non_sepsis_random_indices)\n",
    "    print ('size of new non sepsis file is '+ str(data_non_sepsis.shape))\n",
    "    #create corresponding y_file\n",
    "    next_y_record_non_sepsis=np.zeros(data_non_sepsis.shape[0])\n",
    "    print ('size of new y file is '+ str(next_y_record_non_sepsis.shape))\n",
    "    y_file_C_sepsis_non_sepsis=np.concatenate((y_file_C_sepsis_non_sepsis,next_y_record_non_sepsis))\n",
    "    print ('size of whole y file is now '+ str(y_file_C_sepsis_non_sepsis.shape))\n",
    "    data_file_C_sepsis_non_sepsis=np.vstack((data_file_C_sepsis_non_sepsis,data_non_sepsis))\n",
    "    print ('size of whole file is now '+ str(data_file_C_sepsis_non_sepsis.shape))\n",
    "    #next_record=next_record+10\n",
    "    print('interval is '+str(interval))\n",
    "    sepsis_record_number=file_list_windows.loc[interval,'X file name']\n",
    "    print('sepsis_record_number is '+str(sepsis_record_number))\n",
    "    next_sepsis_block=np.load(path_for_np+sepsis_record_number+'.npy')\n",
    "    print('next sepsis_block size is ' +str(next_sepsis_block.shape))\n",
    "    data_file_C_sepsis_non_sepsis=np.vstack((data_file_C_sepsis_non_sepsis,next_sepsis_block))\n",
    "    next_y_record_sepsis=np.ones(next_sepsis_block.shape[0])\n",
    "    y_file_C_sepsis_non_sepsis=np.concatenate((y_file_C_sepsis_non_sepsis,next_y_record_sepsis))\n",
    "    print ('size of data file is now '+ str(data_file_C_sepsis_non_sepsis.shape))\n",
    "    print ('size of y file is now '+ str(y_file_C_sepsis_non_sepsis.shape))\n",
    "data_file_C_sepsis_non_sepsis= np.delete(data_file_C_sepsis_non_sepsis, 0, 0)\n",
    "print ('size of whole file after top line removed is now '+ str(data_file_C_sepsis_non_sepsis.shape))\n",
    "print ('size of y file is now '+ str(y_file_C_sepsis_non_sepsis.shape))\n",
    "print('total sepsis is '+str(sum(y_file_C_sepsis_non_sepsis)))\n",
    "print('total non sepsis is '+str(len(data_file_C_sepsis_non_sepsis)-sum(y_file_C_sepsis_non_sepsis)))\n",
    "data_file_C_sepsis_non_sepsis.shape"
   ]
  },
  {
   "cell_type": "code",
   "execution_count": 341,
   "id": "75d07668",
   "metadata": {},
   "outputs": [
    {
     "data": {
      "text/plain": [
       "(189, 7, 16)"
      ]
     },
     "execution_count": 341,
     "metadata": {},
     "output_type": "execute_result"
    }
   ],
   "source": [
    "C_data_50perc=data_file_C_sepsis_non_sepsis\n",
    "C_data_50perc=C_data_50perc.transpose(0,2,1)\n",
    "C_data_50perc.shape"
   ]
  },
  {
   "cell_type": "code",
   "execution_count": 342,
   "id": "f7caee68",
   "metadata": {},
   "outputs": [
    {
     "data": {
      "text/plain": [
       "(189,)"
      ]
     },
     "execution_count": 342,
     "metadata": {},
     "output_type": "execute_result"
    }
   ],
   "source": [
    "C_ycol_50perc=y_file_C_sepsis_non_sepsis\n",
    "C_ycol_50perc.shape"
   ]
  },
  {
   "cell_type": "code",
   "execution_count": 343,
   "id": "8f14ed63",
   "metadata": {},
   "outputs": [
    {
     "data": {
      "text/plain": [
       "2132"
      ]
     },
     "execution_count": 343,
     "metadata": {},
     "output_type": "execute_result"
    }
   ],
   "source": [
    "next_record"
   ]
  },
  {
   "cell_type": "markdown",
   "id": "e0536b5b",
   "metadata": {},
   "source": [
    "# creating 'Data set D 1000 records combined 50% non-imputed sepsis and random non_sepsis.npy'"
   ]
  },
  {
   "cell_type": "code",
   "execution_count": 344,
   "id": "93c93db2",
   "metadata": {},
   "outputs": [
    {
     "name": "stdout",
     "output_type": "stream",
     "text": [
      "number of non_sepsis_records is 5000\n",
      "number of random numbers is (5000,)\n",
      "size of new non sepsis file is (7, 16, 7)\n",
      "size of new y file is (7,)\n",
      "size of whole y file is now (7,)\n",
      "size of whole file is now (8, 16, 7)\n",
      "interval is 60\n",
      "sepsis_record_number is X Sepsis consequetive windows associated with p112569.psv\n",
      "next sepsis_block size is (14, 16, 7)\n",
      "size of data file is now (22, 16, 7)\n",
      "size of y file is now (21,)\n",
      "size of new non sepsis file is (7, 16, 7)\n",
      "size of new y file is (7,)\n",
      "size of whole y file is now (28,)\n",
      "size of whole file is now (29, 16, 7)\n",
      "interval is 61\n",
      "sepsis_record_number is X Sepsis consequetive windows associated with p112602.psv\n",
      "next sepsis_block size is (1, 16, 7)\n",
      "size of data file is now (30, 16, 7)\n",
      "size of y file is now (29,)\n",
      "size of new non sepsis file is (7, 16, 7)\n",
      "size of new y file is (7,)\n",
      "size of whole y file is now (36,)\n",
      "size of whole file is now (37, 16, 7)\n",
      "interval is 62\n",
      "sepsis_record_number is X Sepsis consequetive windows associated with p112640.psv\n",
      "next sepsis_block size is (10, 16, 7)\n",
      "size of data file is now (47, 16, 7)\n",
      "size of y file is now (46,)\n",
      "size of new non sepsis file is (7, 16, 7)\n",
      "size of new y file is (7,)\n",
      "size of whole y file is now (53,)\n",
      "size of whole file is now (54, 16, 7)\n",
      "interval is 63\n",
      "sepsis_record_number is X Sepsis consequetive windows associated with p113388.psv\n",
      "next sepsis_block size is (16, 16, 7)\n",
      "size of data file is now (70, 16, 7)\n",
      "size of y file is now (69,)\n",
      "size of new non sepsis file is (7, 16, 7)\n",
      "size of new y file is (7,)\n",
      "size of whole y file is now (76,)\n",
      "size of whole file is now (77, 16, 7)\n",
      "interval is 64\n",
      "sepsis_record_number is X Sepsis consequetive windows associated with p113783.psv\n",
      "next sepsis_block size is (16, 16, 7)\n",
      "size of data file is now (93, 16, 7)\n",
      "size of y file is now (92,)\n",
      "size of new non sepsis file is (7, 16, 7)\n",
      "size of new y file is (7,)\n",
      "size of whole y file is now (99,)\n",
      "size of whole file is now (100, 16, 7)\n",
      "interval is 65\n",
      "sepsis_record_number is X Sepsis consequetive windows associated with p113897.psv\n",
      "next sepsis_block size is (9, 16, 7)\n",
      "size of data file is now (109, 16, 7)\n",
      "size of y file is now (108,)\n",
      "size of new non sepsis file is (7, 16, 7)\n",
      "size of new y file is (7,)\n",
      "size of whole y file is now (115,)\n",
      "size of whole file is now (116, 16, 7)\n",
      "interval is 66\n",
      "sepsis_record_number is X Sepsis consequetive windows associated with p113944.psv\n",
      "next sepsis_block size is (8, 16, 7)\n",
      "size of data file is now (124, 16, 7)\n",
      "size of y file is now (123,)\n",
      "size of new non sepsis file is (7, 16, 7)\n",
      "size of new y file is (7,)\n",
      "size of whole y file is now (130,)\n",
      "size of whole file is now (131, 16, 7)\n",
      "interval is 67\n",
      "sepsis_record_number is X Sepsis consequetive windows associated with p114100.psv\n",
      "next sepsis_block size is (13, 16, 7)\n",
      "size of data file is now (144, 16, 7)\n",
      "size of y file is now (143,)\n",
      "size of new non sepsis file is (7, 16, 7)\n",
      "size of new y file is (7,)\n",
      "size of whole y file is now (150,)\n",
      "size of whole file is now (151, 16, 7)\n",
      "interval is 68\n",
      "sepsis_record_number is X Sepsis consequetive windows associated with p115594.psv\n",
      "next sepsis_block size is (2, 16, 7)\n",
      "size of data file is now (153, 16, 7)\n",
      "size of y file is now (152,)\n",
      "size of new non sepsis file is (7, 16, 7)\n",
      "size of new y file is (7,)\n",
      "size of whole y file is now (159,)\n",
      "size of whole file is now (160, 16, 7)\n",
      "interval is 69\n",
      "sepsis_record_number is X Sepsis consequetive windows associated with p115826.psv\n",
      "next sepsis_block size is (3, 16, 7)\n",
      "size of data file is now (163, 16, 7)\n",
      "size of y file is now (162,)\n",
      "size of whole file after top line removed is now (162, 16, 7)\n",
      "size of y file is now (162,)\n",
      "total sepsis is 92.0\n",
      "total non sepsis is 70.0\n"
     ]
    },
    {
     "data": {
      "text/plain": [
       "(162, 16, 7)"
      ]
     },
     "execution_count": 344,
     "metadata": {},
     "output_type": "execute_result"
    }
   ],
   "source": [
    "#No_of_non_sepsis_records=5000\n",
    "#next_record=0\n",
    "sepsis_ref_no=0\n",
    "data_file_D_sepsis_non_sepsis=np.zeros((1, size_of_window, number_of_features))\n",
    "y_file_D_sepsis_non_sepsis=[]\n",
    "print('number of non_sepsis_records is '+str(No_of_non_sepsis_records))\n",
    "#num_rand_nos=get_random_numbers_non_sepsis(Number_of_non_sepsis_records)\n",
    "#non_sepsis_random_indices=get_random_numbers_non_sepsis(No_of_non_sepsis_records)\n",
    "print('number of random numbers is '+str(num_rand_nos.shape))\n",
    "#get_non_sepsis_file_as_array(record_num)\n",
    "for interval in Data_list_D:\n",
    "    data_non_sepsis,next_record=get_7_non_sepsis_file_as_array(next_record,non_sepsis_random_indices)\n",
    "    print ('size of new non sepsis file is '+ str(data_non_sepsis.shape))\n",
    "    #create corresponding y_file\n",
    "    next_y_record_non_sepsis=np.zeros(data_non_sepsis.shape[0])\n",
    "    print ('size of new y file is '+ str(next_y_record_non_sepsis.shape))\n",
    "    y_file_D_sepsis_non_sepsis=np.concatenate((y_file_D_sepsis_non_sepsis,next_y_record_non_sepsis))\n",
    "    print ('size of whole y file is now '+ str(y_file_D_sepsis_non_sepsis.shape))\n",
    "    data_file_D_sepsis_non_sepsis=np.vstack((data_file_D_sepsis_non_sepsis,data_non_sepsis))\n",
    "    print ('size of whole file is now '+ str(data_file_D_sepsis_non_sepsis.shape))\n",
    "    #next_record=next_record+10\n",
    "    print('interval is '+str(interval))\n",
    "    sepsis_record_number=file_list_windows.loc[interval,'X file name']\n",
    "    print('sepsis_record_number is '+str(sepsis_record_number))\n",
    "    next_sepsis_block=np.load(path_for_np+sepsis_record_number+'.npy')\n",
    "    print('next sepsis_block size is ' +str(next_sepsis_block.shape))\n",
    "    data_file_D_sepsis_non_sepsis=np.vstack((data_file_D_sepsis_non_sepsis,next_sepsis_block))\n",
    "    next_y_record_sepsis=np.ones(next_sepsis_block.shape[0])\n",
    "    y_file_D_sepsis_non_sepsis=np.concatenate((y_file_D_sepsis_non_sepsis,next_y_record_sepsis))\n",
    "    print ('size of data file is now '+ str(data_file_D_sepsis_non_sepsis.shape))\n",
    "    print ('size of y file is now '+ str(y_file_D_sepsis_non_sepsis.shape))\n",
    "data_file_D_sepsis_non_sepsis= np.delete(data_file_D_sepsis_non_sepsis, 0, 0)\n",
    "print ('size of whole file after top line removed is now '+ str(data_file_D_sepsis_non_sepsis.shape))\n",
    "print ('size of y file is now '+ str(y_file_D_sepsis_non_sepsis.shape))\n",
    "print('total sepsis is '+str(sum(y_file_D_sepsis_non_sepsis)))\n",
    "print('total non sepsis is '+str(len(data_file_D_sepsis_non_sepsis)-sum(y_file_D_sepsis_non_sepsis)))\n",
    "data_file_D_sepsis_non_sepsis.shape"
   ]
  },
  {
   "cell_type": "code",
   "execution_count": 345,
   "id": "5aad942e",
   "metadata": {},
   "outputs": [
    {
     "data": {
      "text/plain": [
       "(162, 7, 16)"
      ]
     },
     "execution_count": 345,
     "metadata": {},
     "output_type": "execute_result"
    }
   ],
   "source": [
    "D_data_50perc=data_file_D_sepsis_non_sepsis\n",
    "D_data_50perc=D_data_50perc.transpose(0,2,1)\n",
    "D_data_50perc.shape"
   ]
  },
  {
   "cell_type": "code",
   "execution_count": 346,
   "id": "eb643857",
   "metadata": {},
   "outputs": [
    {
     "data": {
      "text/plain": [
       "(162,)"
      ]
     },
     "execution_count": 346,
     "metadata": {},
     "output_type": "execute_result"
    }
   ],
   "source": [
    "D_ycol_50perc=y_file_D_sepsis_non_sepsis\n",
    "D_ycol_50perc.shape"
   ]
  },
  {
   "cell_type": "code",
   "execution_count": 347,
   "id": "1aec949a",
   "metadata": {},
   "outputs": [
    {
     "data": {
      "text/plain": [
       "2652"
      ]
     },
     "execution_count": 347,
     "metadata": {},
     "output_type": "execute_result"
    }
   ],
   "source": [
    "next_record"
   ]
  },
  {
   "cell_type": "markdown",
   "id": "b34ff2ec",
   "metadata": {},
   "source": [
    "# creating 'Data set E 1000 records combined 50% non-imputed sepsis and random non_sepsis.npy'"
   ]
  },
  {
   "cell_type": "code",
   "execution_count": 348,
   "id": "d1a5cc30",
   "metadata": {},
   "outputs": [
    {
     "name": "stdout",
     "output_type": "stream",
     "text": [
      "number of non_sepsis_records is 5000\n",
      "number of random numbers is (5000,)\n",
      "size of new non sepsis file is (7, 16, 7)\n",
      "size of new y file is (7,)\n",
      "size of whole y file is now (7,)\n",
      "size of whole file is now (8, 16, 7)\n",
      "interval is 70\n",
      "sepsis_record_number is X Sepsis consequetive windows associated with p116237.psv\n",
      "next sepsis_block size is (6, 16, 7)\n",
      "size of data file is now (14, 16, 7)\n",
      "size of y file is now (13,)\n",
      "size of new non sepsis file is (7, 16, 7)\n",
      "size of new y file is (7,)\n",
      "size of whole y file is now (20,)\n",
      "size of whole file is now (21, 16, 7)\n",
      "interval is 71\n",
      "sepsis_record_number is X Sepsis consequetive windows associated with p117335.psv\n",
      "next sepsis_block size is (5, 16, 7)\n",
      "size of data file is now (26, 16, 7)\n",
      "size of y file is now (25,)\n",
      "size of new non sepsis file is (7, 16, 7)\n",
      "size of new y file is (7,)\n",
      "size of whole y file is now (32,)\n",
      "size of whole file is now (33, 16, 7)\n",
      "interval is 72\n",
      "sepsis_record_number is X Sepsis consequetive windows associated with p117399.psv\n",
      "next sepsis_block size is (5, 16, 7)\n",
      "size of data file is now (38, 16, 7)\n",
      "size of y file is now (37,)\n",
      "size of new non sepsis file is (7, 16, 7)\n",
      "size of new y file is (7,)\n",
      "size of whole y file is now (44,)\n",
      "size of whole file is now (45, 16, 7)\n",
      "interval is 73\n",
      "sepsis_record_number is X Sepsis consequetive windows associated with p118449.psv\n",
      "next sepsis_block size is (16, 16, 7)\n",
      "size of data file is now (61, 16, 7)\n",
      "size of y file is now (60,)\n",
      "size of new non sepsis file is (7, 16, 7)\n",
      "size of new y file is (7,)\n",
      "size of whole y file is now (67,)\n",
      "size of whole file is now (68, 16, 7)\n",
      "interval is 74\n",
      "sepsis_record_number is X Sepsis consequetive windows associated with p118461.psv\n",
      "next sepsis_block size is (10, 16, 7)\n",
      "size of data file is now (78, 16, 7)\n",
      "size of y file is now (77,)\n",
      "size of new non sepsis file is (7, 16, 7)\n",
      "size of new y file is (7,)\n",
      "size of whole y file is now (84,)\n",
      "size of whole file is now (85, 16, 7)\n",
      "interval is 75\n",
      "sepsis_record_number is X Sepsis consequetive windows associated with p118501.psv\n",
      "next sepsis_block size is (9, 16, 7)\n",
      "size of data file is now (94, 16, 7)\n",
      "size of y file is now (93,)\n",
      "size of new non sepsis file is (7, 16, 7)\n",
      "size of new y file is (7,)\n",
      "size of whole y file is now (100,)\n",
      "size of whole file is now (101, 16, 7)\n",
      "interval is 76\n",
      "sepsis_record_number is X Sepsis consequetive windows associated with p118783.psv\n",
      "next sepsis_block size is (5, 16, 7)\n",
      "size of data file is now (106, 16, 7)\n",
      "size of y file is now (105,)\n",
      "size of new non sepsis file is (7, 16, 7)\n",
      "size of new y file is (7,)\n",
      "size of whole y file is now (112,)\n",
      "size of whole file is now (113, 16, 7)\n",
      "interval is 77\n",
      "sepsis_record_number is X Sepsis consequetive windows associated with p118804.psv\n",
      "next sepsis_block size is (2, 16, 7)\n",
      "size of data file is now (115, 16, 7)\n",
      "size of y file is now (114,)\n",
      "size of new non sepsis file is (7, 16, 7)\n",
      "size of new y file is (7,)\n",
      "size of whole y file is now (121,)\n",
      "size of whole file is now (122, 16, 7)\n",
      "interval is 78\n",
      "sepsis_record_number is X Sepsis consequetive windows associated with p118848.psv\n",
      "next sepsis_block size is (3, 16, 7)\n",
      "size of data file is now (125, 16, 7)\n",
      "size of y file is now (124,)\n",
      "size of new non sepsis file is (7, 16, 7)\n",
      "size of new y file is (7,)\n",
      "size of whole y file is now (131,)\n",
      "size of whole file is now (132, 16, 7)\n",
      "interval is 79\n",
      "sepsis_record_number is X Sepsis consequetive windows associated with p119061.psv\n",
      "next sepsis_block size is (16, 16, 7)\n",
      "size of data file is now (148, 16, 7)\n",
      "size of y file is now (147,)\n",
      "size of new non sepsis file is (7, 16, 7)\n",
      "size of new y file is (7,)\n",
      "size of whole y file is now (154,)\n",
      "size of whole file is now (155, 16, 7)\n",
      "interval is 80\n",
      "sepsis_record_number is X Sepsis consequetive windows associated with p119082.psv\n",
      "next sepsis_block size is (2, 16, 7)\n",
      "size of data file is now (157, 16, 7)\n",
      "size of y file is now (156,)\n",
      "size of new non sepsis file is (7, 16, 7)\n",
      "size of new y file is (7,)\n",
      "size of whole y file is now (163,)\n",
      "size of whole file is now (164, 16, 7)\n",
      "interval is 81\n",
      "sepsis_record_number is X Sepsis consequetive windows associated with p119463.psv\n",
      "next sepsis_block size is (6, 16, 7)\n",
      "size of data file is now (170, 16, 7)\n",
      "size of y file is now (169,)\n",
      "size of new non sepsis file is (7, 16, 7)\n",
      "size of new y file is (7,)\n",
      "size of whole y file is now (176,)\n",
      "size of whole file is now (177, 16, 7)\n",
      "interval is 82\n",
      "sepsis_record_number is X Sepsis consequetive windows associated with p119749.psv\n",
      "next sepsis_block size is (7, 16, 7)\n",
      "size of data file is now (184, 16, 7)\n",
      "size of y file is now (183,)\n",
      "size of new non sepsis file is (7, 16, 7)\n",
      "size of new y file is (7,)\n",
      "size of whole y file is now (190,)\n",
      "size of whole file is now (191, 16, 7)\n",
      "interval is 83\n",
      "sepsis_record_number is X Sepsis consequetive windows associated with p119910.psv\n",
      "next sepsis_block size is (4, 16, 7)\n",
      "size of data file is now (195, 16, 7)\n",
      "size of y file is now (194,)\n",
      "size of whole file after top line removed is now (194, 16, 7)\n",
      "size of y file is now (194,)\n",
      "total sepsis is 96.0\n",
      "total non sepsis is 98.0\n"
     ]
    },
    {
     "data": {
      "text/plain": [
       "(194, 16, 7)"
      ]
     },
     "execution_count": 348,
     "metadata": {},
     "output_type": "execute_result"
    }
   ],
   "source": [
    "#No_of_non_sepsis_records=5000\n",
    "#next_record=0\n",
    "sepsis_ref_no=0\n",
    "data_file_E_sepsis_non_sepsis=np.zeros((1, size_of_window, number_of_features))\n",
    "y_file_E_sepsis_non_sepsis=[]\n",
    "print('number of non_sepsis_records is '+str(No_of_non_sepsis_records))\n",
    "#num_rand_nos=get_random_numbers_non_sepsis(Number_of_non_sepsis_records)\n",
    "#non_sepsis_random_indices=get_random_numbers_non_sepsis(No_of_non_sepsis_records)\n",
    "print('number of random numbers is '+str(num_rand_nos.shape))\n",
    "#get_non_sepsis_file_as_array(record_num)\n",
    "for interval in Data_list_E:\n",
    "    data_non_sepsis,next_record=get_7_non_sepsis_file_as_array(next_record,non_sepsis_random_indices)\n",
    "    print ('size of new non sepsis file is '+ str(data_non_sepsis.shape))\n",
    "    #create corresponding y_file\n",
    "    next_y_record_non_sepsis=np.zeros(data_non_sepsis.shape[0])\n",
    "    print ('size of new y file is '+ str(next_y_record_non_sepsis.shape))\n",
    "    y_file_E_sepsis_non_sepsis=np.concatenate((y_file_E_sepsis_non_sepsis,next_y_record_non_sepsis))\n",
    "    print ('size of whole y file is now '+ str(y_file_E_sepsis_non_sepsis.shape))\n",
    "    data_file_E_sepsis_non_sepsis=np.vstack((data_file_E_sepsis_non_sepsis,data_non_sepsis))\n",
    "    print ('size of whole file is now '+ str(data_file_E_sepsis_non_sepsis.shape))\n",
    "    #next_record=next_record+10\n",
    "    print('interval is '+str(interval))\n",
    "    sepsis_record_number=file_list_windows.loc[interval,'X file name']\n",
    "    print('sepsis_record_number is '+str(sepsis_record_number))\n",
    "    next_sepsis_block=np.load(path_for_np+sepsis_record_number+'.npy')\n",
    "    print('next sepsis_block size is ' +str(next_sepsis_block.shape))\n",
    "    data_file_E_sepsis_non_sepsis=np.vstack((data_file_E_sepsis_non_sepsis,next_sepsis_block))\n",
    "    next_y_record_sepsis=np.ones(next_sepsis_block.shape[0])\n",
    "    y_file_E_sepsis_non_sepsis=np.concatenate((y_file_E_sepsis_non_sepsis,next_y_record_sepsis))\n",
    "    print ('size of data file is now '+ str(data_file_E_sepsis_non_sepsis.shape))\n",
    "    print ('size of y file is now '+ str(y_file_E_sepsis_non_sepsis.shape))\n",
    "data_file_E_sepsis_non_sepsis= np.delete(data_file_E_sepsis_non_sepsis, 0, 0)\n",
    "print ('size of whole file after top line removed is now '+ str(data_file_E_sepsis_non_sepsis.shape))\n",
    "print ('size of y file is now '+ str(y_file_E_sepsis_non_sepsis.shape))\n",
    "print('total sepsis is '+str(sum(y_file_E_sepsis_non_sepsis)))\n",
    "print('total non sepsis is '+str(len(data_file_E_sepsis_non_sepsis)-sum(y_file_E_sepsis_non_sepsis)))\n",
    "data_file_E_sepsis_non_sepsis.shape"
   ]
  },
  {
   "cell_type": "code",
   "execution_count": 350,
   "id": "af8ac932",
   "metadata": {},
   "outputs": [
    {
     "data": {
      "text/plain": [
       "(194, 7, 16)"
      ]
     },
     "execution_count": 350,
     "metadata": {},
     "output_type": "execute_result"
    }
   ],
   "source": [
    "E_data_50perc=data_file_E_sepsis_non_sepsis\n",
    "E_data_50perc=E_data_50perc.transpose(0,2,1)\n",
    "E_data_50perc.shape"
   ]
  },
  {
   "cell_type": "code",
   "execution_count": 351,
   "id": "fbbd4bfb",
   "metadata": {},
   "outputs": [
    {
     "data": {
      "text/plain": [
       "(194,)"
      ]
     },
     "execution_count": 351,
     "metadata": {},
     "output_type": "execute_result"
    }
   ],
   "source": [
    "E_ycol_50perc=y_file_E_sepsis_non_sepsis\n",
    "E_ycol_50perc.shape"
   ]
  },
  {
   "cell_type": "code",
   "execution_count": null,
   "id": "940c2240",
   "metadata": {},
   "outputs": [],
   "source": []
  },
  {
   "cell_type": "markdown",
   "id": "730ba9f9",
   "metadata": {},
   "source": [
    "# Save our 5 K validation data sets"
   ]
  },
  {
   "cell_type": "code",
   "execution_count": 355,
   "id": "3356e123",
   "metadata": {},
   "outputs": [],
   "source": [
    "filename_set_A_50perc='Data set A 1000 records combined 50% non-imputed sepsis and random non_sepsis.npy'\n",
    "np.save(path_for_np+filename_set_A_50perc,A_data_50perc)\n",
    "y_set_A_50perc='y set A 1000 records combined 50% non-imputed sepsis and random non_sepsis.npy'\n",
    "np.save(path_for_np+y_set_A_50perc,A_ycol_50perc)"
   ]
  },
  {
   "cell_type": "code",
   "execution_count": 353,
   "id": "80ef3e0e",
   "metadata": {},
   "outputs": [
    {
     "data": {
      "text/plain": [
       "(183, 7, 16)"
      ]
     },
     "execution_count": 353,
     "metadata": {},
     "output_type": "execute_result"
    }
   ],
   "source": [
    "check=np.load(path_for_np+filename_set_A_50perc)\n",
    "check.shape"
   ]
  },
  {
   "cell_type": "code",
   "execution_count": 356,
   "id": "4379164c",
   "metadata": {},
   "outputs": [
    {
     "data": {
      "text/plain": [
       "(183,)"
      ]
     },
     "execution_count": 356,
     "metadata": {},
     "output_type": "execute_result"
    }
   ],
   "source": [
    "check2=np.load(path_for_np+y_set_A_50perc)\n",
    "check2.shape"
   ]
  },
  {
   "cell_type": "code",
   "execution_count": 386,
   "id": "2a1a9ccd",
   "metadata": {},
   "outputs": [
    {
     "name": "stdout",
     "output_type": "stream",
     "text": [
      "percentage sepsis is 50.27322404371585\n"
     ]
    }
   ],
   "source": [
    "print ('percentage sepsis is '+str(sum(A_ycol_50perc)*100/len(A_ycol_50perc)))"
   ]
  },
  {
   "cell_type": "code",
   "execution_count": 361,
   "id": "97e7a1e8",
   "metadata": {},
   "outputs": [],
   "source": [
    "filename_set_B_50perc='Data set B 1000 records combined 50% non-imputed sepsis and random non_sepsis.npy'\n",
    "np.save(path_for_np+filename_set_B_50perc,B_data_50perc)\n",
    "y_set_B_50perc='y set B 1000 records combined 50% non-imputed sepsis and random non_sepsis.npy'\n",
    "np.save(path_for_np+y_set_B_50perc,B_ycol_50perc)"
   ]
  },
  {
   "cell_type": "code",
   "execution_count": 363,
   "id": "65cc364a",
   "metadata": {},
   "outputs": [
    {
     "data": {
      "text/plain": [
       "(183, 7, 16)"
      ]
     },
     "execution_count": 363,
     "metadata": {},
     "output_type": "execute_result"
    }
   ],
   "source": [
    "check=np.load(path_for_np+filename_set_B_50perc)\n",
    "check.shape"
   ]
  },
  {
   "cell_type": "code",
   "execution_count": 366,
   "id": "cb400a45",
   "metadata": {},
   "outputs": [
    {
     "data": {
      "text/plain": [
       "(183,)"
      ]
     },
     "execution_count": 366,
     "metadata": {},
     "output_type": "execute_result"
    }
   ],
   "source": [
    "check2=np.load(path_for_np+y_set_B_50perc)\n",
    "check2.shape"
   ]
  },
  {
   "cell_type": "code",
   "execution_count": 385,
   "id": "44abbcad",
   "metadata": {},
   "outputs": [
    {
     "name": "stdout",
     "output_type": "stream",
     "text": [
      "percentage sepsis is 42.622950819672134\n"
     ]
    }
   ],
   "source": [
    "print ('percentage sepsis is '+str(sum(B_ycol_50perc)*100/len(B_ycol_50perc)))"
   ]
  },
  {
   "cell_type": "code",
   "execution_count": 365,
   "id": "98d50825",
   "metadata": {},
   "outputs": [],
   "source": [
    "filename_set_C_50perc='Data set C 1000 records combined 50% non-imputed sepsis and random non_sepsis.npy'\n",
    "np.save(path_for_np+filename_set_C_50perc,C_data_50perc)\n",
    "y_set_C_50perc='y set C 1000 records combined 50% non-imputed sepsis and random non_sepsis.npy'\n",
    "np.save(path_for_np+y_set_C_50perc,C_ycol_50perc)"
   ]
  },
  {
   "cell_type": "code",
   "execution_count": 367,
   "id": "531252ff",
   "metadata": {},
   "outputs": [
    {
     "data": {
      "text/plain": [
       "(189, 7, 16)"
      ]
     },
     "execution_count": 367,
     "metadata": {},
     "output_type": "execute_result"
    }
   ],
   "source": [
    "check=np.load(path_for_np+filename_set_C_50perc)\n",
    "check.shape"
   ]
  },
  {
   "cell_type": "code",
   "execution_count": 368,
   "id": "e23a11bd",
   "metadata": {},
   "outputs": [
    {
     "data": {
      "text/plain": [
       "(189,)"
      ]
     },
     "execution_count": 368,
     "metadata": {},
     "output_type": "execute_result"
    }
   ],
   "source": [
    "check2=np.load(path_for_np+y_set_C_50perc)\n",
    "check2.shape"
   ]
  },
  {
   "cell_type": "code",
   "execution_count": 384,
   "id": "2f9b7183",
   "metadata": {},
   "outputs": [
    {
     "name": "stdout",
     "output_type": "stream",
     "text": [
      "percentage sepsis is 51.851851851851855\n"
     ]
    }
   ],
   "source": [
    "print ('percentage sepsis is '+str(sum(C_ycol_50perc)*100/len(C_ycol_50perc)))"
   ]
  },
  {
   "cell_type": "code",
   "execution_count": 372,
   "id": "12f81fb5",
   "metadata": {},
   "outputs": [],
   "source": [
    "filename_set_D_50perc='Data set D 1000 records combined 50% non-imputed sepsis and random non_sepsis.npy'\n",
    "np.save(path_for_np+filename_set_D_50perc,D_data_50perc)\n",
    "y_set_D_50perc='y set D 1000 records combined 50% non-imputed sepsis and random non_sepsis.npy'\n",
    "np.save(path_for_np+y_set_D_50perc,D_ycol_50perc)"
   ]
  },
  {
   "cell_type": "code",
   "execution_count": 373,
   "id": "bbb9fa94",
   "metadata": {},
   "outputs": [
    {
     "data": {
      "text/plain": [
       "(162, 7, 16)"
      ]
     },
     "execution_count": 373,
     "metadata": {},
     "output_type": "execute_result"
    }
   ],
   "source": [
    "check=np.load(path_for_np+filename_set_D_50perc)\n",
    "check.shape"
   ]
  },
  {
   "cell_type": "code",
   "execution_count": 374,
   "id": "bcf2fbd2",
   "metadata": {},
   "outputs": [
    {
     "data": {
      "text/plain": [
       "(162,)"
      ]
     },
     "execution_count": 374,
     "metadata": {},
     "output_type": "execute_result"
    }
   ],
   "source": [
    "check2=np.load(path_for_np+y_set_D_50perc)\n",
    "check2.shape"
   ]
  },
  {
   "cell_type": "code",
   "execution_count": 383,
   "id": "09ba8ea1",
   "metadata": {},
   "outputs": [
    {
     "name": "stdout",
     "output_type": "stream",
     "text": [
      "percentage sepsis is 56.79012345679013\n"
     ]
    }
   ],
   "source": [
    "print ('percentage sepsis is '+str(sum(D_ycol_50perc)*100/len(D_ycol_50perc)))"
   ]
  },
  {
   "cell_type": "code",
   "execution_count": 375,
   "id": "25881ef8",
   "metadata": {},
   "outputs": [],
   "source": [
    "filename_set_E_50perc='Data set E 1000 records combined 50% non-imputed sepsis and random non_sepsis.npy'\n",
    "np.save(path_for_np+filename_set_E_50perc,E_data_50perc)\n",
    "y_set_E_50perc='y set E 1000 records combined 50% non-imputed sepsis and random non_sepsis.npy'\n",
    "np.save(path_for_np+y_set_E_50perc,E_ycol_50perc)"
   ]
  },
  {
   "cell_type": "code",
   "execution_count": 376,
   "id": "1825eae0",
   "metadata": {},
   "outputs": [
    {
     "data": {
      "text/plain": [
       "(194, 7, 16)"
      ]
     },
     "execution_count": 376,
     "metadata": {},
     "output_type": "execute_result"
    }
   ],
   "source": [
    "check=np.load(path_for_np+filename_set_E_50perc)\n",
    "check.shape"
   ]
  },
  {
   "cell_type": "code",
   "execution_count": 377,
   "id": "dd29cb82",
   "metadata": {},
   "outputs": [
    {
     "data": {
      "text/plain": [
       "(194,)"
      ]
     },
     "execution_count": 377,
     "metadata": {},
     "output_type": "execute_result"
    }
   ],
   "source": [
    "check2=np.load(path_for_np+y_set_E_50perc)\n",
    "check2.shape"
   ]
  },
  {
   "cell_type": "code",
   "execution_count": 382,
   "id": "34ced80e",
   "metadata": {},
   "outputs": [
    {
     "name": "stdout",
     "output_type": "stream",
     "text": [
      "percentage sepsis is 49.48453608247423\n"
     ]
    }
   ],
   "source": [
    "print ('percentage sepsis is '+str(sum(E_ycol_50perc)*100/len(E_ycol_50perc)))"
   ]
  },
  {
   "cell_type": "markdown",
   "id": "c7b7767f",
   "metadata": {},
   "source": [
    "# Creating the five K N sets: set_1_50perc, 2,3,4,5"
   ]
  },
  {
   "cell_type": "code",
   "execution_count": 408,
   "id": "8701d83e",
   "metadata": {},
   "outputs": [
    {
     "name": "stdout",
     "output_type": "stream",
     "text": [
      "set 1 train data is (717, 7, 16)\n",
      "set 1 train y vals is (717,)\n",
      "set 1 test data is (194, 7, 16)\n",
      "set 1 test y vals is (194,)\n"
     ]
    }
   ],
   "source": [
    "set_1_50perc_train_data=np.vstack((A_data_50perc,B_data_50perc,C_data_50perc,D_data_50perc))\n",
    "print('set 1 train data is '+ str(set_1_50perc_train_data.shape))\n",
    "set_1_50perc_train_y=np.concatenate((A_ycol_50perc,B_ycol_50perc,C_ycol_50perc,D_ycol_50perc))\n",
    "print('set 1 train y vals is '+ str(set_1_50perc_train_y.shape))\n",
    "set_1_50perc_test_data=E_data_50perc\n",
    "print('set 1 test data is '+ str(set_1_50perc_test_data.shape))\n",
    "set_1_50perc_test_y=E_ycol_50perc\n",
    "print('set 1 test y vals is '+ str(set_1_50perc_test_y.shape))"
   ]
  },
  {
   "cell_type": "code",
   "execution_count": 412,
   "id": "966f591b",
   "metadata": {},
   "outputs": [
    {
     "name": "stdout",
     "output_type": "stream",
     "text": [
      "set 2 train data is (749, 7, 16)\n",
      "set 2 train y vals is (749,)\n",
      "set 2 test data is (162, 7, 16)\n",
      "set 2 test y vals is (162,)\n"
     ]
    }
   ],
   "source": [
    "#set_2=A+B+C+E\n",
    "set_2_50perc_train_data=np.vstack((A_data_50perc,B_data_50perc,C_data_50perc,E_data_50perc))\n",
    "print('set 2 train data is '+ str(set_2_50perc_train_data.shape))\n",
    "set_2_50perc_train_y=np.concatenate((A_ycol_50perc,B_ycol_50perc,C_ycol_50perc,E_ycol_50perc))\n",
    "print('set 2 train y vals is '+ str(set_2_50perc_train_y.shape))\n",
    "set_2_50perc_test_data=D_data_50perc\n",
    "print('set 2 test data is '+ str(set_2_50perc_test_data.shape))\n",
    "set_2_50perc_test_y=D_ycol_50perc\n",
    "print('set 2 test y vals is '+ str(set_2_50perc_test_y.shape))"
   ]
  },
  {
   "cell_type": "code",
   "execution_count": 414,
   "id": "04450e5e",
   "metadata": {},
   "outputs": [
    {
     "name": "stdout",
     "output_type": "stream",
     "text": [
      "set 3 train data is (728, 7, 16)\n",
      "set 3 train y vals is (728,)\n",
      "set 3 test data is (183, 7, 16)\n",
      "set 3 test y vals is (183,)\n"
     ]
    }
   ],
   "source": [
    "#set_3=B+C+D+E\n",
    "set_3_50perc_train_data=np.vstack((B_data_50perc,C_data_50perc,D_data_50perc,E_data_50perc))\n",
    "print('set 3 train data is '+ str(set_3_50perc_train_data.shape))\n",
    "set_3_50perc_train_y=np.concatenate((B_ycol_50perc,C_ycol_50perc,D_ycol_50perc,E_ycol_50perc))\n",
    "print('set 3 train y vals is '+ str(set_3_50perc_train_y.shape))\n",
    "set_3_50perc_test_data=A_data_50perc\n",
    "print('set 3 test data is '+ str(set_3_50perc_test_data.shape))\n",
    "set_3_50perc_test_y=A_ycol_50perc\n",
    "print('set 3 test y vals is '+ str(set_3_50perc_test_y.shape))"
   ]
  },
  {
   "cell_type": "code",
   "execution_count": 415,
   "id": "ea5feef5",
   "metadata": {},
   "outputs": [
    {
     "name": "stdout",
     "output_type": "stream",
     "text": [
      "set 4 train data is (728, 7, 16)\n",
      "set 4 train y vals is (728,)\n",
      "set 4 test data is (183, 7, 16)\n",
      "set 4 test y vals is (183,)\n"
     ]
    }
   ],
   "source": [
    "#set_4=A+C+D+E\n",
    "set_4_50perc_train_data=np.vstack((A_data_50perc,C_data_50perc,D_data_50perc,E_data_50perc))\n",
    "print('set 4 train data is '+ str(set_4_50perc_train_data.shape))\n",
    "set_4_50perc_train_y=np.concatenate((A_ycol_50perc,C_ycol_50perc,D_ycol_50perc,E_ycol_50perc))\n",
    "print('set 4 train y vals is '+ str(set_4_50perc_train_y.shape))\n",
    "set_4_50perc_test_data=B_data_50perc\n",
    "print('set 4 test data is '+ str(set_4_50perc_test_data.shape))\n",
    "set_4_50perc_test_y=B_ycol_50perc\n",
    "print('set 4 test y vals is '+ str(set_4_50perc_test_y.shape))"
   ]
  },
  {
   "cell_type": "code",
   "execution_count": 416,
   "id": "2aaa6d57",
   "metadata": {},
   "outputs": [
    {
     "name": "stdout",
     "output_type": "stream",
     "text": [
      "set 5 train data is (722, 7, 16)\n",
      "set 5 train y vals is (722,)\n",
      "set 5 test data is (189, 7, 16)\n",
      "set 5 test y vals is (189,)\n"
     ]
    }
   ],
   "source": [
    "#set_5=A+B+D+E\n",
    "set_5_50perc_train_data=np.vstack((A_data_50perc,B_data_50perc,D_data_50perc,E_data_50perc))\n",
    "print('set 5 train data is '+ str(set_5_50perc_train_data.shape))\n",
    "set_5_50perc_train_y=np.concatenate((A_ycol_50perc,B_ycol_50perc,D_ycol_50perc,E_ycol_50perc))\n",
    "print('set 5 train y vals is '+ str(set_5_50perc_train_y.shape))\n",
    "set_5_50perc_test_data=C_data_50perc\n",
    "print('set 5 test data is '+ str(set_5_50perc_test_data.shape))\n",
    "set_5_50perc_test_y=C_ycol_50perc\n",
    "print('set 5 test y vals is '+ str(set_5_50perc_test_y.shape))"
   ]
  },
  {
   "cell_type": "markdown",
   "id": "3fc0b026",
   "metadata": {},
   "source": [
    "# Saving the KN files"
   ]
  },
  {
   "cell_type": "code",
   "execution_count": 420,
   "id": "0ccd3854",
   "metadata": {},
   "outputs": [],
   "source": [
    "path_for_np='/Users/davidfueggled/Documents/win16 train test datasets/'\n",
    "filename_data_1_50perc_train='no 1 50perc data set for training for K validation.npy'\n",
    "np.save(path_for_np+filename_data_1_50perc_train,set_1_50perc_train_data)\n",
    "filename_y_set_1_50perc_train='no 1 50perc y set for training data for K validation.npy'\n",
    "np.save(path_for_np+filename_y_set_1_50perc_train,set_1_50perc_train_y)\n",
    "filename_data_1_50perc_test='no 1 50perc data set for testing for K validation.npy'\n",
    "np.save(path_for_np+filename_data_1_50perc_test,set_1_50perc_test_data)\n",
    "filename_y_set_1_50perc_test='no 1 50perc y set for testing for K validation.npy'\n",
    "np.save(path_for_np+filename_y_set_1_50perc_test,set_1_50perc_test_y)\n",
    "\n",
    "filename_data_2_50perc_train='no 2 50perc data set for training for K validation.npy'\n",
    "np.save(path_for_np+filename_data_2_50perc_train,set_2_50perc_train_data)\n",
    "filename_y_set_2_50perc_train='no 2 50perc y set for training data for K validation.npy'\n",
    "np.save(path_for_np+filename_y_set_2_50perc_train,set_2_50perc_train_y)\n",
    "filename_data_2_test='no 2 50perc data set for testing for K validation.npy'\n",
    "np.save(path_for_np+filename_data_2_test,set_2_50perc_test_data)\n",
    "filename_y_set_2_50perc_test='no 2 50perc y set for testing for K validation.npy'\n",
    "np.save(path_for_np+filename_y_set_2_50perc_test,set_2_50perc_test_y)\n",
    "\n",
    "filename_data_3_50perc_train='no 3 50perc data set for training for K validation.npy'\n",
    "np.save(path_for_np+filename_data_3_50perc_train,set_3_50perc_train_data)\n",
    "filename_y_set_3_50perc_train='no 3 50perc y set for training data for K validation.npy'\n",
    "np.save(path_for_np+filename_y_set_3_50perc_train,set_3_50perc_train_y)\n",
    "filename_data_3_50perc_test='no 3 50perc data set for testing for K validation.npy'\n",
    "np.save(path_for_np+filename_data_3_50perc_test,set_3_50perc_test_data)\n",
    "filename_y_set_3_50perc_test='no 3 50perc y set for testing for K validation.npy'\n",
    "np.save(path_for_np+filename_y_set_3_50perc_test,set_3_50perc_test_y)\n",
    "\n",
    "filename_data_4_50perc_train='no 4 50perc data set for training for K validation.npy'\n",
    "np.save(path_for_np+filename_data_4_50perc_train,set_4_50perc_train_data)\n",
    "filename_y_set_4_50perc_train='no 4 50perc y set for training data for K validation.npy'\n",
    "np.save(path_for_np+filename_y_set_4_50perc_train,set_4_50perc_train_y)\n",
    "filename_data_4_50perc_test='no 4 50perc data set for testing for K validation.npy'\n",
    "np.save(path_for_np+filename_data_4_50perc_test,set_4_50perc_test_data)\n",
    "filename_y_set_4_50perc_test='no 4 50perc y set for testing for K validation.npy'\n",
    "np.save(path_for_np+filename_y_set_4_50perc_test,set_4_50perc_test_y)\n",
    "\n",
    "filename_data_5_50perc_train='no 5 50perc data set for training for K validation.npy'\n",
    "np.save(path_for_np+filename_data_5_50perc_train,set_5_50perc_train_data)\n",
    "filename_y_set_5_50perc_train='no 5 50perc y set for training data for K validation.npy'\n",
    "np.save(path_for_np+filename_y_set_5_50perc_train,set_5_50perc_train_y)\n",
    "filename_data_5_50perc_test='no 5 50perc data set for testing for K validation.npy'\n",
    "np.save(path_for_np+filename_data_5_50perc_test,set_5_50perc_test_data)\n",
    "filename_y_set_5_50perc_test='no 5 50perc y set for testing for K validation.npy'\n",
    "np.save(path_for_np+filename_y_set_5_50perc_test,set_5_50perc_test_y)"
   ]
  },
  {
   "cell_type": "markdown",
   "id": "dae92c61",
   "metadata": {},
   "source": [
    "# checks and balances\n",
    "to test for duplicates within dataset or betweeh datasets"
   ]
  },
  {
   "cell_type": "code",
   "execution_count": null,
   "id": "4e533954",
   "metadata": {},
   "outputs": [],
   "source": []
  },
  {
   "cell_type": "code",
   "execution_count": 275,
   "id": "0adca1de",
   "metadata": {},
   "outputs": [
    {
     "name": "stdout",
     "output_type": "stream",
     "text": [
      "odd values are 52 with 67\n",
      "odd values are 67 with 52\n",
      "odd values are 119 with 121\n",
      "odd values are 121 with 119\n",
      "odd values are 173 with 184\n",
      "odd values are 184 with 173\n",
      "odd values are 236 with 253\n",
      "odd values are 253 with 236\n",
      "odd values are 305 with 322\n",
      "odd values are 322 with 305\n",
      "odd values are 374 with 384\n",
      "odd values are 384 with 374\n",
      "odd values are 436 with 445\n",
      "odd values are 445 with 436\n",
      "odd values are 497 with 511\n",
      "odd values are 511 with 497\n",
      "odd values are 563 with 566\n",
      "odd values are 566 with 563\n",
      "548\n"
     ]
    }
   ],
   "source": [
    "#to find duplicate non_sepsis\n",
    "n=0\n",
    "for D in  range(0,D_data.shape[0]):\n",
    "#for sepsis_train in range(0,1):\n",
    "    if (D_ycol[D])==0:\n",
    "        first=D_data[D,:,:]\n",
    "        #print(first.shape)  \n",
    "        #print(sepsis_train)\n",
    "        \n",
    "        for DD in  range(0,D_data.shape[0]):\n",
    "            if (D_ycol[DD])==0:    \n",
    "                second=D_data[DD,:,:]\n",
    "                if np.array_equal(first, second):\n",
    "                    n=n+1\n",
    "                    if (D!=DD):\n",
    "                        print ('odd values are '+str(D) +' with '+str(DD))\n",
    "print(n)"
   ]
  },
  {
   "cell_type": "code",
   "execution_count": 406,
   "id": "8d905930",
   "metadata": {},
   "outputs": [
    {
     "name": "stdout",
     "output_type": "stream",
     "text": [
      "0\n"
     ]
    }
   ],
   "source": [
    "#to find duplicate sepsis\n",
    "n=0\n",
    "for D in range(0,D_data_50perc.shape[0]):\n",
    "#for sepsis_train in range(0,1):\n",
    "    if (D_ycol_50perc[D])==0:\n",
    "        first=D_data_50perc[D,:,:]\n",
    "        #print(first.shape)  \n",
    "        #print(sepsis_train)\n",
    "        \n",
    "        for E in  range(0,E_data_50perc.shape[0]):\n",
    "            if (E_ycol_50perc[E])==0:    \n",
    "                second=E_data_50perc[E,:,:]\n",
    "                if np.array_equal(first, second):\n",
    "                    n=n+1\n",
    "                    print ('odd values are '+str(D) +' with '+str(E))\n",
    "print(n)"
   ]
  },
  {
   "cell_type": "code",
   "execution_count": 430,
   "id": "c40c4d28",
   "metadata": {},
   "outputs": [
    {
     "name": "stdout",
     "output_type": "stream",
     "text": [
      "0\n"
     ]
    }
   ],
   "source": [
    "#to find duplicate sepsis\n",
    "n=0\n",
    "for Train in range(0,set_5_50perc_train_data.shape[0]):\n",
    "#for sepsis_train in range(0,1):\n",
    "    if (set_5_50perc_train_y[Train])==0:\n",
    "        first=set_5_50perc_train_data[Train,:,:]\n",
    "        #print(first.shape)  \n",
    "        #print(sepsis_train)\n",
    "        \n",
    "        for Test in range(0,set_5_50perc_test_data.shape[0]):\n",
    "            if (set_5_50perc_train_y[Test])==0:    \n",
    "                second=set_5_50perc_test_data[Test,:,:]\n",
    "                if np.array_equal(first, second):\n",
    "                    n=n+1\n",
    "                    print ('odd values are '+str(Train) +' with '+str(Test))\n",
    "print(n)\n"
   ]
  },
  {
   "cell_type": "markdown",
   "id": "c5196dfb",
   "metadata": {},
   "source": [
    "# Check for duplicates in non-sepsis non-imputed dataset\n",
    "soon becomes intractable"
   ]
  },
  {
   "cell_type": "code",
   "execution_count": 138,
   "id": "ac1a862e",
   "metadata": {},
   "outputs": [
    {
     "name": "stdout",
     "output_type": "stream",
     "text": [
      "1000\n"
     ]
    }
   ],
   "source": [
    "n=0\n",
    "non_i=0\n",
    "#for record_num in range(0,Number_of_non_sepsis_records):\n",
    "for record_num1 in range(0,1000):\n",
    "    file_name1 =df_non_sepsis.loc[record_num1,\"Window record No\"]\n",
    "    #print('filename 1 is '+str(file_name1))\n",
    "    if file_name1>498000:\n",
    "        file_path1='/Users/davidfueggled/Documents/win16 datasets V2/NonImp'+str(file_name1)+'.csv'\n",
    "    else:\n",
    "        file_path1='/Users/davidfueggled/Documents/win16 datasets/NonImp'+str(file_name1)+'.csv'\n",
    "    #print(file_path1)\n",
    "    test_record1=pd.read_csv(file_path)\n",
    "    test_record1=test_record1.loc[:,\"HR\":\"Resp\"]\n",
    "    #print ('test_record 1 is '+str(test_record1))\n",
    "    #for record_num2 in range(0,Number_of_non_sepsis_records):\n",
    "    for record_num2 in range(0,1000):\n",
    "        file_name2 =df_non_sepsis.loc[record_num2,\"Window record No\"]\n",
    "        #print('filename 2 is '+str(file_name2))\n",
    "        if file_name2>498000:\n",
    "            file_path2='/Users/davidfueggled/Documents/win16 datasets V2/NonImp'+str(file_name2)+'.csv'\n",
    "        else:\n",
    "            file_path2='/Users/davidfueggled/Documents/win16 datasets/NonImp'+str(file_name2)+'.csv'\n",
    "        #print(file_path2)\n",
    "        test_record2=pd.read_csv(file_path2)\n",
    "        test_record2=test_record2.loc[:,\"HR\":\"Resp\"]\n",
    "        #print ('test_record 2 is '+str(test_record2))\n",
    "        if np.array_equal(test_record1, test_record2):\n",
    "            n=n+1\n",
    "            if (record_num1!=record_num2):\n",
    "                non_i=non_i+1\n",
    "                #print ('odd values are '+str(record_num1) +' with '+str(record_num2))\n",
    "print(n)"
   ]
  },
  {
   "cell_type": "code",
   "execution_count": 237,
   "id": "c125bd51",
   "metadata": {},
   "outputs": [
    {
     "data": {
      "text/plain": [
       "9103"
      ]
     },
     "execution_count": 237,
     "metadata": {},
     "output_type": "execute_result"
    }
   ],
   "source": [
    "# checking after eliminatung duplicates\n",
    "df_non_sepsis = pd.read_csv(path_non_sepsis)\n",
    "no_of_files_non_sepsis=df_non_sepsis.shape[0]\n",
    "no_of_files_non_sepsis"
   ]
  },
  {
   "cell_type": "code",
   "execution_count": 238,
   "id": "228ecf9f",
   "metadata": {},
   "outputs": [
    {
     "data": {
      "text/html": [
       "<div>\n",
       "<style scoped>\n",
       "    .dataframe tbody tr th:only-of-type {\n",
       "        vertical-align: middle;\n",
       "    }\n",
       "\n",
       "    .dataframe tbody tr th {\n",
       "        vertical-align: top;\n",
       "    }\n",
       "\n",
       "    .dataframe thead th {\n",
       "        text-align: right;\n",
       "    }\n",
       "</style>\n",
       "<table border=\"1\" class=\"dataframe\">\n",
       "  <thead>\n",
       "    <tr style=\"text-align: right;\">\n",
       "      <th></th>\n",
       "      <th>Unnamed: 0.2</th>\n",
       "      <th>Unnamed: 0.1</th>\n",
       "      <th>Psv Record No</th>\n",
       "      <th>No entries</th>\n",
       "      <th>Window record No</th>\n",
       "      <th>Window size</th>\n",
       "      <th>Window start</th>\n",
       "      <th>HR NaNs</th>\n",
       "      <th>O2Sat NaNs</th>\n",
       "      <th>Temp NaNs</th>\n",
       "      <th>SBP NaNs</th>\n",
       "      <th>MAP NaNs</th>\n",
       "      <th>DBP NaNs</th>\n",
       "      <th>Resp NaNs</th>\n",
       "      <th>Total NaNs</th>\n",
       "      <th>Sepsis Label</th>\n",
       "      <th>Sepsis change point</th>\n",
       "      <th>Unnamed: 0</th>\n",
       "    </tr>\n",
       "  </thead>\n",
       "  <tbody>\n",
       "    <tr>\n",
       "      <th>0</th>\n",
       "      <td>2430</td>\n",
       "      <td>2430</td>\n",
       "      <td>p100002.psv</td>\n",
       "      <td>25</td>\n",
       "      <td>109969</td>\n",
       "      <td>16</td>\n",
       "      <td>1</td>\n",
       "      <td>0</td>\n",
       "      <td>0</td>\n",
       "      <td>0</td>\n",
       "      <td>0</td>\n",
       "      <td>0</td>\n",
       "      <td>0</td>\n",
       "      <td>0</td>\n",
       "      <td>0</td>\n",
       "      <td>0</td>\n",
       "      <td>0</td>\n",
       "      <td>109969</td>\n",
       "    </tr>\n",
       "    <tr>\n",
       "      <th>1</th>\n",
       "      <td>2431</td>\n",
       "      <td>2431</td>\n",
       "      <td>p100002.psv</td>\n",
       "      <td>25</td>\n",
       "      <td>109970</td>\n",
       "      <td>16</td>\n",
       "      <td>2</td>\n",
       "      <td>0</td>\n",
       "      <td>0</td>\n",
       "      <td>0</td>\n",
       "      <td>0</td>\n",
       "      <td>0</td>\n",
       "      <td>0</td>\n",
       "      <td>0</td>\n",
       "      <td>0</td>\n",
       "      <td>0</td>\n",
       "      <td>0</td>\n",
       "      <td>109970</td>\n",
       "    </tr>\n",
       "    <tr>\n",
       "      <th>2</th>\n",
       "      <td>2432</td>\n",
       "      <td>2432</td>\n",
       "      <td>p100014.psv</td>\n",
       "      <td>43</td>\n",
       "      <td>110323</td>\n",
       "      <td>16</td>\n",
       "      <td>5</td>\n",
       "      <td>0</td>\n",
       "      <td>0</td>\n",
       "      <td>0</td>\n",
       "      <td>0</td>\n",
       "      <td>0</td>\n",
       "      <td>0</td>\n",
       "      <td>0</td>\n",
       "      <td>0</td>\n",
       "      <td>0</td>\n",
       "      <td>0</td>\n",
       "      <td>110323</td>\n",
       "    </tr>\n",
       "    <tr>\n",
       "      <th>3</th>\n",
       "      <td>2433</td>\n",
       "      <td>2433</td>\n",
       "      <td>p100014.psv</td>\n",
       "      <td>43</td>\n",
       "      <td>110324</td>\n",
       "      <td>16</td>\n",
       "      <td>6</td>\n",
       "      <td>0</td>\n",
       "      <td>0</td>\n",
       "      <td>0</td>\n",
       "      <td>0</td>\n",
       "      <td>0</td>\n",
       "      <td>0</td>\n",
       "      <td>0</td>\n",
       "      <td>0</td>\n",
       "      <td>0</td>\n",
       "      <td>0</td>\n",
       "      <td>110324</td>\n",
       "    </tr>\n",
       "    <tr>\n",
       "      <th>4</th>\n",
       "      <td>2434</td>\n",
       "      <td>2434</td>\n",
       "      <td>p100014.psv</td>\n",
       "      <td>43</td>\n",
       "      <td>110325</td>\n",
       "      <td>16</td>\n",
       "      <td>7</td>\n",
       "      <td>0</td>\n",
       "      <td>0</td>\n",
       "      <td>0</td>\n",
       "      <td>0</td>\n",
       "      <td>0</td>\n",
       "      <td>0</td>\n",
       "      <td>0</td>\n",
       "      <td>0</td>\n",
       "      <td>0</td>\n",
       "      <td>0</td>\n",
       "      <td>110325</td>\n",
       "    </tr>\n",
       "    <tr>\n",
       "      <th>...</th>\n",
       "      <td>...</td>\n",
       "      <td>...</td>\n",
       "      <td>...</td>\n",
       "      <td>...</td>\n",
       "      <td>...</td>\n",
       "      <td>...</td>\n",
       "      <td>...</td>\n",
       "      <td>...</td>\n",
       "      <td>...</td>\n",
       "      <td>...</td>\n",
       "      <td>...</td>\n",
       "      <td>...</td>\n",
       "      <td>...</td>\n",
       "      <td>...</td>\n",
       "      <td>...</td>\n",
       "      <td>...</td>\n",
       "      <td>...</td>\n",
       "      <td>...</td>\n",
       "    </tr>\n",
       "    <tr>\n",
       "      <th>9098</th>\n",
       "      <td>11528</td>\n",
       "      <td>11528</td>\n",
       "      <td>p119994.psv</td>\n",
       "      <td>42</td>\n",
       "      <td>557611</td>\n",
       "      <td>16</td>\n",
       "      <td>7</td>\n",
       "      <td>0</td>\n",
       "      <td>0</td>\n",
       "      <td>0</td>\n",
       "      <td>0</td>\n",
       "      <td>0</td>\n",
       "      <td>0</td>\n",
       "      <td>0</td>\n",
       "      <td>0</td>\n",
       "      <td>0</td>\n",
       "      <td>0</td>\n",
       "      <td>557611</td>\n",
       "    </tr>\n",
       "    <tr>\n",
       "      <th>9099</th>\n",
       "      <td>11529</td>\n",
       "      <td>11529</td>\n",
       "      <td>p119994.psv</td>\n",
       "      <td>42</td>\n",
       "      <td>557612</td>\n",
       "      <td>16</td>\n",
       "      <td>8</td>\n",
       "      <td>0</td>\n",
       "      <td>0</td>\n",
       "      <td>0</td>\n",
       "      <td>0</td>\n",
       "      <td>0</td>\n",
       "      <td>0</td>\n",
       "      <td>0</td>\n",
       "      <td>0</td>\n",
       "      <td>0</td>\n",
       "      <td>0</td>\n",
       "      <td>557612</td>\n",
       "    </tr>\n",
       "    <tr>\n",
       "      <th>9100</th>\n",
       "      <td>11530</td>\n",
       "      <td>11530</td>\n",
       "      <td>p119994.psv</td>\n",
       "      <td>42</td>\n",
       "      <td>557613</td>\n",
       "      <td>16</td>\n",
       "      <td>9</td>\n",
       "      <td>0</td>\n",
       "      <td>0</td>\n",
       "      <td>0</td>\n",
       "      <td>0</td>\n",
       "      <td>0</td>\n",
       "      <td>0</td>\n",
       "      <td>0</td>\n",
       "      <td>0</td>\n",
       "      <td>0</td>\n",
       "      <td>0</td>\n",
       "      <td>557613</td>\n",
       "    </tr>\n",
       "    <tr>\n",
       "      <th>9101</th>\n",
       "      <td>11531</td>\n",
       "      <td>11531</td>\n",
       "      <td>p119994.psv</td>\n",
       "      <td>42</td>\n",
       "      <td>557614</td>\n",
       "      <td>16</td>\n",
       "      <td>10</td>\n",
       "      <td>0</td>\n",
       "      <td>0</td>\n",
       "      <td>0</td>\n",
       "      <td>0</td>\n",
       "      <td>0</td>\n",
       "      <td>0</td>\n",
       "      <td>0</td>\n",
       "      <td>0</td>\n",
       "      <td>0</td>\n",
       "      <td>0</td>\n",
       "      <td>557614</td>\n",
       "    </tr>\n",
       "    <tr>\n",
       "      <th>9102</th>\n",
       "      <td>11532</td>\n",
       "      <td>11532</td>\n",
       "      <td>p119994.psv</td>\n",
       "      <td>42</td>\n",
       "      <td>557615</td>\n",
       "      <td>16</td>\n",
       "      <td>11</td>\n",
       "      <td>0</td>\n",
       "      <td>0</td>\n",
       "      <td>0</td>\n",
       "      <td>0</td>\n",
       "      <td>0</td>\n",
       "      <td>0</td>\n",
       "      <td>0</td>\n",
       "      <td>0</td>\n",
       "      <td>0</td>\n",
       "      <td>0</td>\n",
       "      <td>557615</td>\n",
       "    </tr>\n",
       "  </tbody>\n",
       "</table>\n",
       "<p>9103 rows × 18 columns</p>\n",
       "</div>"
      ],
      "text/plain": [
       "      Unnamed: 0.2  Unnamed: 0.1 Psv Record No  No entries  Window record No  \\\n",
       "0             2430          2430   p100002.psv          25            109969   \n",
       "1             2431          2431   p100002.psv          25            109970   \n",
       "2             2432          2432   p100014.psv          43            110323   \n",
       "3             2433          2433   p100014.psv          43            110324   \n",
       "4             2434          2434   p100014.psv          43            110325   \n",
       "...            ...           ...           ...         ...               ...   \n",
       "9098         11528         11528   p119994.psv          42            557611   \n",
       "9099         11529         11529   p119994.psv          42            557612   \n",
       "9100         11530         11530   p119994.psv          42            557613   \n",
       "9101         11531         11531   p119994.psv          42            557614   \n",
       "9102         11532         11532   p119994.psv          42            557615   \n",
       "\n",
       "      Window size  Window start  HR NaNs  O2Sat NaNs  Temp NaNs  SBP NaNs  \\\n",
       "0              16             1        0           0          0         0   \n",
       "1              16             2        0           0          0         0   \n",
       "2              16             5        0           0          0         0   \n",
       "3              16             6        0           0          0         0   \n",
       "4              16             7        0           0          0         0   \n",
       "...           ...           ...      ...         ...        ...       ...   \n",
       "9098           16             7        0           0          0         0   \n",
       "9099           16             8        0           0          0         0   \n",
       "9100           16             9        0           0          0         0   \n",
       "9101           16            10        0           0          0         0   \n",
       "9102           16            11        0           0          0         0   \n",
       "\n",
       "      MAP NaNs  DBP NaNs  Resp NaNs  Total NaNs  Sepsis Label  \\\n",
       "0            0         0          0           0             0   \n",
       "1            0         0          0           0             0   \n",
       "2            0         0          0           0             0   \n",
       "3            0         0          0           0             0   \n",
       "4            0         0          0           0             0   \n",
       "...        ...       ...        ...         ...           ...   \n",
       "9098         0         0          0           0             0   \n",
       "9099         0         0          0           0             0   \n",
       "9100         0         0          0           0             0   \n",
       "9101         0         0          0           0             0   \n",
       "9102         0         0          0           0             0   \n",
       "\n",
       "      Sepsis change point  Unnamed: 0  \n",
       "0                       0      109969  \n",
       "1                       0      109970  \n",
       "2                       0      110323  \n",
       "3                       0      110324  \n",
       "4                       0      110325  \n",
       "...                   ...         ...  \n",
       "9098                    0      557611  \n",
       "9099                    0      557612  \n",
       "9100                    0      557613  \n",
       "9101                    0      557614  \n",
       "9102                    0      557615  \n",
       "\n",
       "[9103 rows x 18 columns]"
      ]
     },
     "execution_count": 238,
     "metadata": {},
     "output_type": "execute_result"
    }
   ],
   "source": [
    "df_non_sepsis"
   ]
  },
  {
   "cell_type": "code",
   "execution_count": 178,
   "id": "766647d2",
   "metadata": {},
   "outputs": [
    {
     "data": {
      "text/plain": [
       "(9103, 17)"
      ]
     },
     "execution_count": 178,
     "metadata": {},
     "output_type": "execute_result"
    }
   ],
   "source": [
    "df_non_sepsis.shape"
   ]
  },
  {
   "cell_type": "code",
   "execution_count": 181,
   "id": "bd7e4125",
   "metadata": {},
   "outputs": [],
   "source": [
    "#df_non_sepsis.to_csv('/Users/davidfueggled/Documents/results year three/list of non sepsis 16 windows.csv')"
   ]
  }
 ],
 "metadata": {
  "kernelspec": {
   "display_name": "Python 3 (ipykernel)",
   "language": "python",
   "name": "python3"
  },
  "language_info": {
   "codemirror_mode": {
    "name": "ipython",
    "version": 3
   },
   "file_extension": ".py",
   "mimetype": "text/x-python",
   "name": "python",
   "nbconvert_exporter": "python",
   "pygments_lexer": "ipython3",
   "version": "3.9.13"
  }
 },
 "nbformat": 4,
 "nbformat_minor": 5
}
